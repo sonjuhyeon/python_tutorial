{
 "cells": [
  {
   "cell_type": "markdown",
   "metadata": {},
   "source": [
    "## 함수 \n",
    "\n",
    "- def 키워드를 사용하 함수를 정의하고 함수 이름 다음에 괄호와 콜론을 작성한다.\n",
    "\n",
    "### 함수 기본식\n",
    "\n",
    "def function():\n",
    "    함수가 실행하는 코드 내용"
   ]
  },
  {
   "cell_type": "code",
   "execution_count": 4,
   "metadata": {},
   "outputs": [
    {
     "name": "stdout",
     "output_type": "stream",
     "text": [
      "Hello World\n"
     ]
    }
   ],
   "source": [
    "def myfunction():\n",
    "    print(\"Hello World\")\n",
    "myfunction()"
   ]
  },
  {
   "cell_type": "markdown",
   "metadata": {},
   "source": [
    "### 매개변수\n",
    "\n",
    "- 함수 호출 시 매개변수에 전달될 값을 넣을 수 있다."
   ]
  },
  {
   "cell_type": "code",
   "execution_count": 5,
   "metadata": {},
   "outputs": [
    {
     "name": "stdout",
     "output_type": "stream",
     "text": [
      "6\n"
     ]
    }
   ],
   "source": [
    "def addNum(num1, num2):\n",
    "    print(num1 + num2)\n",
    "addNum(2, 4)"
   ]
  },
  {
   "cell_type": "markdown",
   "metadata": {},
   "source": [
    "### return 키워드\n",
    "\n",
    "- 함수에선 return 키워드로 함수를 종료할 수 있다.\n",
    "- return 값이 없는 함수도 만들 수 있다.\n"
   ]
  },
  {
   "cell_type": "code",
   "execution_count": 6,
   "metadata": {},
   "outputs": [
    {
     "name": "stdout",
     "output_type": "stream",
     "text": [
      "64\n"
     ]
    }
   ],
   "source": [
    "def multiplyNum(num1):\n",
    "    return num1 * 8\n",
    "result = multiplyNum(8)\n",
    "print(result)"
   ]
  },
  {
   "cell_type": "markdown",
   "metadata": {},
   "source": [
    "### 인자\n",
    "\n",
    "\n",
    "- 함수 인자를 보내는 방식은 2가지가 있다.\n",
    "    1. 위치 인자 = 위치로 매칭하는 방법\n",
    "    2. 키워드 인자 = 매개변수 이름으로 매칭하는 방법\n",
    "\n",
    "(위치인자를 먼저 사용하면 뒤에 키워드 인자를 써도 되지만 키워드 인자를 먼저 쓰는건 불가능)\n"
   ]
  },
  {
   "cell_type": "code",
   "execution_count": 7,
   "metadata": {},
   "outputs": [
    {
     "name": "stdout",
     "output_type": "stream",
     "text": [
      "Jung-Pig\n",
      "Jung-Pig\n"
     ]
    }
   ],
   "source": [
    "def func(a, b):\n",
    "      print(a, b, sep='-')\n",
    "# 위치 매칭      \n",
    "func('Jung', 'Pig')\n",
    "# 매개변수 매칭\n",
    "func(b='Pig', a='Jung')\n",
    "# func(a='Jung', 'Pig') # 불가능\n"
   ]
  },
  {
   "cell_type": "markdown",
   "metadata": {},
   "source": [
    "### 매개변수 기본값\n",
    "\n",
    "- 함수를 정의할 때 매개변수의 기본값을 지정해 줄 수 있다.\n",
    "- 매개변수의 기본값을 지정한 경우에는 함수를 사용할때 인자를 보내지않는다면 미리 지정한 기본값을 사용하여 함수를 실행한다."
   ]
  },
  {
   "cell_type": "code",
   "execution_count": 8,
   "metadata": {},
   "outputs": [
    {
     "name": "stdout",
     "output_type": "stream",
     "text": [
      "20\n",
      "13\n"
     ]
    }
   ],
   "source": [
    "def func(a, b=3):\n",
    "     return a + b\n",
    "\n",
    "print(func(10, 10)) \n",
    "print(func(10)) "
   ]
  },
  {
   "cell_type": "markdown",
   "metadata": {},
   "source": [
    "\n",
    "### 패키지\n",
    "\n",
    "- 위치인자가 많을 시에는 *을 붙여서 하나의 객체로 처리할 수 있다.\n",
    "- 키워드인자는 ** 두 개를 붙여서 작성할 수 있다."
   ]
  },
  {
   "cell_type": "code",
   "execution_count": 9,
   "metadata": {},
   "outputs": [
    {
     "data": {
      "text/plain": [
       "55"
      ]
     },
     "execution_count": 9,
     "metadata": {},
     "output_type": "execute_result"
    }
   ],
   "source": [
    "def add_many(*args): \n",
    "    result = 0\n",
    "    for i in args: \n",
    "        result = result + i\n",
    "    return result \n",
    "\n",
    "add_many(1, 2, 3, 4, 5, 6, 7, 8, 9, 10)"
   ]
  },
  {
   "cell_type": "markdown",
   "metadata": {},
   "source": [
    "### 언패키지\n",
    "\n",
    "- 패키지와 반대되는 개념으로 여러개의 객체를 포함하는 하나의 객체를 풀어준다."
   ]
  },
  {
   "cell_type": "code",
   "execution_count": 10,
   "metadata": {},
   "outputs": [
    {
     "name": "stdout",
     "output_type": "stream",
     "text": [
      "6\n"
     ]
    }
   ],
   "source": [
    "def sum(a, b, c):\n",
    "    return a + b + c\n",
    "\n",
    "numbers = [1, 2, 3]\n",
    "# sum(numbers) # 에러\n",
    "\n",
    "print(sum(*numbers)) "
   ]
  },
  {
   "cell_type": "markdown",
   "metadata": {},
   "source": [
    "### 람다\n",
    "-  매개변수로 함수를 전달하기 위해 함수 구문을 작성하는 것이 번거롭고\n",
    "    코드 낭비라 생각될 때 함수를 간단하고 쉽게 선언하는 방법\n",
    "-  함수 기능을 매개변수로 전달하는 코드를 더 효율적으로 작성\n",
    "\n",
    "#### lambda 매개변수들: 표현식\n",
    "\n",
    "- 일회성 간단한 함수를 정의할 때 유용"
   ]
  },
  {
   "cell_type": "code",
   "execution_count": 11,
   "metadata": {},
   "outputs": [
    {
     "name": "stdout",
     "output_type": "stream",
     "text": [
      "8\n"
     ]
    }
   ],
   "source": [
    "# 람다 기본 예시\n",
    "add = lambda x, y: x + y\n",
    "print(add(3, 5))  "
   ]
  },
  {
   "cell_type": "code",
   "execution_count": 12,
   "metadata": {},
   "outputs": [
    {
     "name": "stdout",
     "output_type": "stream",
     "text": [
      "[1, 4, 9, 16, 25]\n"
     ]
    }
   ],
   "source": [
    "# 람다 함수의 인자로 전달\n",
    "numbers = [1, 2, 3, 4, 5]\n",
    "squared_numbers = map(lambda x: x**2, numbers)\n",
    "print(list(squared_numbers))  "
   ]
  },
  {
   "cell_type": "code",
   "execution_count": 13,
   "metadata": {},
   "outputs": [
    {
     "name": "stdout",
     "output_type": "stream",
     "text": [
      "[2, 4, 6]\n"
     ]
    }
   ],
   "source": [
    "# 조건에 맞는 요소 필터링\n",
    "numbers = [1, 2, 3, 4, 5, 6]\n",
    "even_numbers = filter(lambda x: x % 2 == 0, numbers)\n",
    "print(list(even_numbers))  "
   ]
  },
  {
   "cell_type": "code",
   "execution_count": 14,
   "metadata": {},
   "outputs": [
    {
     "name": "stdout",
     "output_type": "stream",
     "text": [
      "[(5, -1), (3, 1), (1, 2)]\n"
     ]
    }
   ],
   "source": [
    "# 리스트 정렬\n",
    "points = [(1, 2), (3, 1), (5, -1)]\n",
    "sorted_points = sorted(points, key=lambda x: x[1])\n",
    "print(sorted_points)"
   ]
  },
  {
   "cell_type": "markdown",
   "metadata": {},
   "source": [
    "#### 람다를 이용해 문자열 리스트를 길이 순으로 정렬하기\n",
    "\n",
    "- 리스트 [\"pig\", \"Gorilla\", \"bear\", \"squirrel\"]를 문자열의 길이 순으로 정렬하세요."
   ]
  },
  {
   "cell_type": "code",
   "execution_count": 15,
   "metadata": {},
   "outputs": [
    {
     "name": "stdout",
     "output_type": "stream",
     "text": [
      "['pig', 'bear', 'Gorilla', 'squirrel']\n"
     ]
    }
   ],
   "source": [
    "animal = [\"pig\", \"Gorilla\", \"bear\", \"squirrel\"]\n",
    "sorted_animals = sorted(animal, key=lambda x: len(x))\n",
    "print(sorted_animals)  "
   ]
  }
 ],
 "metadata": {
  "kernelspec": {
   "display_name": "pystudy_env",
   "language": "python",
   "name": "pystudy_env"
  },
  "language_info": {
   "codemirror_mode": {
    "name": "ipython",
    "version": 3
   },
   "file_extension": ".py",
   "mimetype": "text/x-python",
   "name": "python",
   "nbconvert_exporter": "python",
   "pygments_lexer": "ipython3",
   "version": "3.12.3"
  }
 },
 "nbformat": 4,
 "nbformat_minor": 2
}

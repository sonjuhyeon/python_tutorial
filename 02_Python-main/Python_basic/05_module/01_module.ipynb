{
 "cells": [
  {
   "cell_type": "markdown",
   "metadata": {},
   "source": [
    "# 모듈이란?\n",
    "Python 코드 파일로, 관련된 코드의 집합으로 모듈은 함수, 클래스, 변수 등을 정의할 수 있으며, 다른 Python 프로그램에서 이를 가져와 사용할 수 있다. 모듈을 사용하면 코드의 재사용성을 높이고 코드 관리가 용이해지는 장점이 있다."
   ]
  },
  {
   "cell_type": "markdown",
   "metadata": {},
   "source": [
    "## 장점\n",
    "\n",
    "1. 재사용성 : 한 번 작성한 코드를 여러 프로그램에서 재사용할 수 있다.\n",
    "\n",
    "2. 코드 관리 : 큰 프로그램을 작은 모듈로 나누어 관리할 수 있다.\n",
    "\n",
    "3. 네임스페이스 : 모듈마다 독립적인 네임스페이스를 제공하여 변수 이름 충돌을 방지할 수 있다."
   ]
  },
  {
   "cell_type": "markdown",
   "metadata": {},
   "source": [
    "### 모듈 사용하기"
   ]
  },
  {
   "cell_type": "markdown",
   "metadata": {},
   "source": [
    "1. 파일 전체 가져오기\n",
    "    - import 구문을 이용하여 파일의 경로와 파일명(.py제외)을 하게되면 현재 스크립트에 다른 곳에서 정의한 스크립트를 불러올 수 있으며 아래는 파일 전체를 불러온다. "
   ]
  },
  {
   "cell_type": "code",
   "execution_count": 15,
   "metadata": {},
   "outputs": [
    {
     "name": "stdout",
     "output_type": "stream",
     "text": [
      "It 전문교육\n",
      "두둥탁\n",
      "꿀꿀\n",
      "어흥\n"
     ]
    }
   ],
   "source": [
    "import ohgiraffersModule\n",
    "print(ohgiraffersModule.ohgiraffers)\n",
    "print(ohgiraffersModule.Gorilla())\n",
    "print(ohgiraffersModule.pig())\n",
    "print(ohgiraffersModule.tiger())"
   ]
  },
  {
   "cell_type": "markdown",
   "metadata": {},
   "source": [
    "2. 특정 함수 또는 변수만 가져오기\n",
    "    - 특정 함수 또는 변수만 가져오기 위해서는 from으로 가져올 대상 스크립트를 지칭하고 import 목록을 기술한다."
   ]
  },
  {
   "cell_type": "code",
   "execution_count": 16,
   "metadata": {},
   "outputs": [
    {
     "name": "stdout",
     "output_type": "stream",
     "text": [
      "It 전문교육\n",
      "두둥탁\n"
     ]
    }
   ],
   "source": [
    "from ohgiraffersModule import ohgiraffers, Gorilla\n",
    "print(ohgiraffers)\n",
    "print(Gorilla())"
   ]
  },
  {
   "cell_type": "markdown",
   "metadata": {},
   "source": [
    "3. 모듈에 별칭 부여하기\n",
    "    - import를 이용하여 스크립트를 불러오는 경우 파일 이름의 따라서 사용이 불편할 수 있는데 이러한 불편사항을 해결하기 위해 모듈에 별칭을 부여할 수 있다"
   ]
  },
  {
   "cell_type": "code",
   "execution_count": 17,
   "metadata": {},
   "outputs": [
    {
     "name": "stdout",
     "output_type": "stream",
     "text": [
      "It 전문교육\n",
      "두둥탁\n"
     ]
    }
   ],
   "source": [
    "import ohgiraffersModule as ohModule\n",
    "print(ohModule.ohgiraffers)\n",
    "print(ohModule.Gorilla())"
   ]
  },
  {
   "cell_type": "markdown",
   "metadata": {},
   "source": [
    "4. 특정 함수 또는 변수에 별칭 부여\n",
    "    - 특정 함수 또는 변수에 별칭을 부여하는 것도 가능하다."
   ]
  },
  {
   "cell_type": "code",
   "execution_count": 20,
   "metadata": {},
   "outputs": [
    {
     "name": "stdout",
     "output_type": "stream",
     "text": [
      "It 전문교육\n",
      "두둥탁\n"
     ]
    }
   ],
   "source": [
    "from ohgiraffersModule import ohgiraffers as ohgi, Gorilla as go\n",
    "print(ohgi)\n",
    "print(go())"
   ]
  },
  {
   "cell_type": "markdown",
   "metadata": {},
   "source": [
    "### 표준 라이브러리 모듈\n",
    "python은 다양한 포쥰 라이브러리 모듈을 포함하고 있으며 여기서는 math 모듈을 사용한다.\n"
   ]
  },
  {
   "cell_type": "code",
   "execution_count": 21,
   "metadata": {},
   "outputs": [
    {
     "name": "stdout",
     "output_type": "stream",
     "text": [
      "4.0\n",
      "120\n",
      "3.141592653589793\n"
     ]
    }
   ],
   "source": [
    "import math\n",
    "\n",
    "print(math.sqrt(16))  # 출력: 4.0\n",
    "print(math.factorial(5))  # 출력: 120\n",
    "print(math.pi)  # 출력: 3.141592653589793"
   ]
  }
 ],
 "metadata": {
  "kernelspec": {
   "display_name": "pythonStudy",
   "language": "python",
   "name": "python3"
  },
  "language_info": {
   "codemirror_mode": {
    "name": "ipython",
    "version": 3
   },
   "file_extension": ".py",
   "mimetype": "text/x-python",
   "name": "python",
   "nbconvert_exporter": "python",
   "pygments_lexer": "ipython3",
   "version": "3.12.3"
  }
 },
 "nbformat": 4,
 "nbformat_minor": 2
}

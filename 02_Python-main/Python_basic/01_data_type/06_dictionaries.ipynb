{
 "cells": [
  {
   "cell_type": "markdown",
   "metadata": {},
   "source": [
    "# 06. Dictionaries"
   ]
  },
  {
   "cell_type": "markdown",
   "metadata": {},
   "source": [
    "---"
   ]
  },
  {
   "cell_type": "markdown",
   "metadata": {},
   "source": [
    "## 06-01. Dictionaries 개요"
   ]
  },
  {
   "cell_type": "markdown",
   "metadata": {},
   "source": [
    "### 06-01-01. Dictionaries 란"
   ]
  },
  {
   "cell_type": "markdown",
   "metadata": {},
   "source": [
    "* 키(key)와 값(value)의 쌍으로 구성된 데이터 구조로, 키를 통해 값을 찾을 수 있으므로 매우 빠른 조회 성능을 보여준다.\n",
    "* 연관 배열(associative array) 또는 해시(hash)라고도 한다."
   ]
  },
  {
   "cell_type": "code",
   "execution_count": 244,
   "metadata": {},
   "outputs": [
    {
     "name": "stdout",
     "output_type": "stream",
     "text": [
      "<class 'dict'>\n",
      "bear\n",
      "ohgiraffers\n"
     ]
    }
   ],
   "source": [
    "teacher = {'name': 'bear', 'team': 'ohgiraffers'}\n",
    "\n",
    "print(type(teacher))\n",
    "\n",
    "# key 값을 활용한 value 탐색\n",
    "print(teacher['name'])\n",
    "print(teacher['team'])"
   ]
  },
  {
   "cell_type": "markdown",
   "metadata": {},
   "source": [
    "### 06-01-02. Dictionaries 특징"
   ]
  },
  {
   "cell_type": "markdown",
   "metadata": {},
   "source": [
    "1. 키(key)와 값(value)의 쌍으로 구성된다.\n",
    "    * 사전에서 단어를 찾아 뜻을 확인하는 것처럼, Dictionaries에서 키를 사용하여 해당 값을 손쉽게 찾고 활용할 수 있다."
   ]
  },
  {
   "cell_type": "code",
   "execution_count": 245,
   "metadata": {},
   "outputs": [
    {
     "name": "stdout",
     "output_type": "stream",
     "text": [
      "{'tiger': 'langChain', 'Squirrel': 'JPA', 'Bear': 'Python', 'Gorilla': 'Spring'}\n",
      "langChain\n",
      "JPA\n"
     ]
    }
   ],
   "source": [
    "ohgiraffers = {'tiger' : 'langChain', 'Squirrel' :'JPA', 'Bear':'Python', 'Gorilla':'Spring'}\n",
    "print(ohgiraffers)\n",
    "\n",
    "print(ohgiraffers['tiger'])\n",
    "print(ohgiraffers['Squirrel'])"
   ]
  },
  {
   "cell_type": "markdown",
   "metadata": {},
   "source": [
    "2. 키는 고유해야 하며 불변(immutable)한 데이터 타입이어야 한다.\n",
    "    * 각 키는 유일하게 존재해야 하므로, 동일한 키로 여러 값을 저장할 수 없다.\n",
    "    * 만약 중복 키로 값을 입력하면, 기존 값을 덮어쓴다.\n",
    "    * 이러한 특징은 데이터 검색 및 관리의 효율성을 높여준다.\n",
    "    * key로 list는 사용할 수 없고, tuple은 (immutable 이므로) 사용할 수 있다."
   ]
  },
  {
   "cell_type": "code",
   "execution_count": 246,
   "metadata": {},
   "outputs": [
    {
     "name": "stdout",
     "output_type": "stream",
     "text": [
      "MyBatis\n",
      "bear.ohgriaffers\n"
     ]
    }
   ],
   "source": [
    "ohgiraffers = {'tiger':'langChain', 'Squirrel':'JPA', 'Bear':'Python', 'Gorilla':'Spring', \"Squirrel\":\"MyBatis\" }\n",
    "print(ohgiraffers['Squirrel'])\n",
    "\n",
    "# invalid_key_teacher = {[\"name\", \"team\"] : 'bear.ohgiraffer'}  # Error\n",
    "\n",
    "valid_key_dic = {(\"name\", \"team\") : 'bear.ohgriaffers'}\n",
    "print(valid_key_dic[(\"name\", \"team\")])"
   ]
  },
  {
   "cell_type": "markdown",
   "metadata": {},
   "source": [
    "3. Dictionaries는 가변적인 자료구조이다.\n",
    "    * Dictionaries는 가변적인 자료구조로, Dictionaries 생성 후에도 키-값 쌍을 추가/삭제/수정할 수 있다.\n",
    "    * 이는 상황에 따라 데이터를 동적으로 변경해야 하는 경우 유용하게 활용될 수 있다."
   ]
  },
  {
   "cell_type": "code",
   "execution_count": 247,
   "metadata": {},
   "outputs": [
    {
     "name": "stdout",
     "output_type": "stream",
     "text": [
      "langChain\n",
      "java\n"
     ]
    }
   ],
   "source": [
    "ohgiraffers = {'tiger' : 'langChain', 'Squirrel' :'JPA', 'Bear':'Python', 'Gorilla':'Spring'}\n",
    "print(ohgiraffers['tiger'])\n",
    "\n",
    "ohgiraffers['tiger'] = 'java'\n",
    "print(ohgiraffers['tiger'])"
   ]
  },
  {
   "cell_type": "markdown",
   "metadata": {},
   "source": [
    "4. 빠른 조회와 수정\n",
    "    - Dictionaries는 해시 테이블을 사용하여 구현되므로, 평균적으로 O(1)의 시간 복잡도로 항목을 조회하고 수정할 수 있다."
   ]
  },
  {
   "cell_type": "markdown",
   "metadata": {},
   "source": [
    "5. del 키워드를 이용해 딕셔너리를 삭제할 수 있다."
   ]
  },
  {
   "cell_type": "code",
   "execution_count": 248,
   "metadata": {},
   "outputs": [],
   "source": [
    "del ohgiraffers\n",
    "# print(ohgiraffers)  # Error"
   ]
  },
  {
   "cell_type": "markdown",
   "metadata": {},
   "source": [
    "6. in 키워드를 사용하여 key 값의 존재 여부를 확인할 수 있다."
   ]
  },
  {
   "cell_type": "code",
   "execution_count": 249,
   "metadata": {},
   "outputs": [
    {
     "name": "stdout",
     "output_type": "stream",
     "text": [
      "True\n"
     ]
    }
   ],
   "source": [
    "ohgiraffers = {'tiger' : 'langChain', 'Squirrel' :'JPA', 'Bear':'Python', 'Gorilla':'Spring'}\n",
    "print('tiger' in ohgiraffers)"
   ]
  },
  {
   "cell_type": "markdown",
   "metadata": {},
   "source": [
    "---"
   ]
  },
  {
   "cell_type": "markdown",
   "metadata": {},
   "source": [
    "## 06-02. Dictionaries 메서드"
   ]
  },
  {
   "cell_type": "markdown",
   "metadata": {},
   "source": [
    "### 06-02-01. get()"
   ]
  },
  {
   "cell_type": "markdown",
   "metadata": {},
   "source": [
    "* get(키)는 매개변수로 전달받은 키에 해당하는 값을 반환한다.\n",
    "* 만약 해당 키가 존재하지 않으면 기본값(None)을 반환한다."
   ]
  },
  {
   "cell_type": "code",
   "execution_count": 250,
   "metadata": {},
   "outputs": [
    {
     "name": "stdout",
     "output_type": "stream",
     "text": [
      "langChain\n",
      "langChain\n",
      "None\n"
     ]
    }
   ],
   "source": [
    "ohgiraffers = {'tiger' : 'langChain', 'Squirrel' :'JPA', 'Bear':'Python', 'Gorilla':'Spring'}\n",
    "\n",
    "print(ohgiraffers['tiger'])\n",
    "print(ohgiraffers.get('tiger'))\n",
    "print(ohgiraffers.get('test'))"
   ]
  },
  {
   "cell_type": "markdown",
   "metadata": {},
   "source": [
    "### 06-02-02. keys()"
   ]
  },
  {
   "cell_type": "markdown",
   "metadata": {},
   "source": [
    "* 딕셔너리의 모든 키를 반환한다."
   ]
  },
  {
   "cell_type": "code",
   "execution_count": 251,
   "metadata": {},
   "outputs": [
    {
     "name": "stdout",
     "output_type": "stream",
     "text": [
      "dict_keys(['tiger', 'Squirrel', 'Bear', 'Gorilla'])\n"
     ]
    }
   ],
   "source": [
    "ohgiraffers = {'tiger' : 'langChain', 'Squirrel' :'JPA', 'Bear':'Python', 'Gorilla':'Spring'}\n",
    "print(ohgiraffers.keys())"
   ]
  },
  {
   "cell_type": "markdown",
   "metadata": {},
   "source": [
    "### 06-02-03. values()"
   ]
  },
  {
   "cell_type": "markdown",
   "metadata": {},
   "source": [
    "- 딕셔너리의 모든 값을 반환한다."
   ]
  },
  {
   "cell_type": "code",
   "execution_count": 252,
   "metadata": {},
   "outputs": [
    {
     "name": "stdout",
     "output_type": "stream",
     "text": [
      "dict_values(['langChain', 'JPA', 'Python', 'Spring'])\n"
     ]
    }
   ],
   "source": [
    "ohgiraffers = {'tiger' : 'langChain', 'Squirrel' :'JPA', 'Bear':'Python', 'Gorilla':'Spring'}\n",
    "print(ohgiraffers.values())"
   ]
  },
  {
   "cell_type": "markdown",
   "metadata": {},
   "source": [
    "### 06-02-04. items()"
   ]
  },
  {
   "cell_type": "markdown",
   "metadata": {},
   "source": [
    "- 딕셔너리의 모든 항목(키-값 쌍)을 반환한다."
   ]
  },
  {
   "cell_type": "code",
   "execution_count": 253,
   "metadata": {},
   "outputs": [
    {
     "name": "stdout",
     "output_type": "stream",
     "text": [
      "dict_items([('tiger', 'langChain'), ('Squirrel', 'JPA'), ('Bear', 'Python'), ('Gorilla', 'Spring')])\n"
     ]
    }
   ],
   "source": [
    "ohgiraffers = {'tiger' : 'langChain', 'Squirrel' :'JPA', 'Bear':'Python', 'Gorilla':'Spring'}\n",
    "print(ohgiraffers.items())"
   ]
  },
  {
   "cell_type": "markdown",
   "metadata": {},
   "source": [
    "### 06-02-05. pop()"
   ]
  },
  {
   "cell_type": "markdown",
   "metadata": {},
   "source": [
    "* pop(키)는 매개변수의 값을 제거하고 반환한다.\n",
    "* 키가 존재하지 않으면 기본값을 반환하고, 만약 기본값이 지정되지 않으면 'KeyError'가 발생한다."
   ]
  },
  {
   "cell_type": "code",
   "execution_count": 254,
   "metadata": {},
   "outputs": [
    {
     "name": "stdout",
     "output_type": "stream",
     "text": [
      "langChain\n",
      "{'Squirrel': 'JPA', 'Bear': 'Python', 'Gorilla': 'Spring'}\n"
     ]
    }
   ],
   "source": [
    "ohgiraffers = {'tiger' : 'langChain', 'Squirrel' :'JPA', 'Bear':'Python', 'Gorilla':'Spring'}\n",
    "print(ohgiraffers.pop('tiger'))\n",
    "# print(ohgiraffers.pop('test'))  # Error\n",
    "print(ohgiraffers)"
   ]
  },
  {
   "cell_type": "markdown",
   "metadata": {},
   "source": [
    "* del 키워드를 이용해 특정 키의 키-값 아이템만 제거할 수도 있다."
   ]
  },
  {
   "cell_type": "code",
   "execution_count": 255,
   "metadata": {},
   "outputs": [
    {
     "name": "stdout",
     "output_type": "stream",
     "text": [
      "{'Bear': 'Python', 'Gorilla': 'Spring'}\n"
     ]
    }
   ],
   "source": [
    "del ohgiraffers['Squirrel']\n",
    "print(ohgiraffers)"
   ]
  },
  {
   "cell_type": "markdown",
   "metadata": {},
   "source": [
    "### 06-02-06. update()"
   ]
  },
  {
   "cell_type": "markdown",
   "metadata": {},
   "source": [
    "* 다른 딕셔너리나 키-값 쌍의 iterable을 사용하여 딕셔너리 요소를 추가한다."
   ]
  },
  {
   "cell_type": "code",
   "execution_count": 256,
   "metadata": {},
   "outputs": [
    {
     "name": "stdout",
     "output_type": "stream",
     "text": [
      "{'tiger': 'langChain', 'Squirrel': 'JPA', 'Bear': 'Python', 'Gorilla': 'Spring', 'test': 'value'}\n"
     ]
    }
   ],
   "source": [
    "ohgiraffers = {'tiger' : 'langChain', 'Squirrel' :'JPA', 'Bear':'Python', 'Gorilla':'Spring'}\n",
    "ohgiraffers.update({'test':'value'})\n",
    "print(ohgiraffers)"
   ]
  },
  {
   "cell_type": "markdown",
   "metadata": {},
   "source": [
    "### 06-02-07. clear()"
   ]
  },
  {
   "cell_type": "markdown",
   "metadata": {},
   "source": [
    "* 모든 항목을 제거한다."
   ]
  },
  {
   "cell_type": "code",
   "execution_count": 257,
   "metadata": {},
   "outputs": [
    {
     "name": "stdout",
     "output_type": "stream",
     "text": [
      "{}\n"
     ]
    }
   ],
   "source": [
    "ohgiraffers = {'tiger' : 'langChain', 'Squirrel' :'JPA', 'Bear':'Python', 'Gorilla':'Spring'}\n",
    "ohgiraffers.clear()\n",
    "print(ohgiraffers)"
   ]
  }
 ],
 "metadata": {
  "kernelspec": {
   "display_name": "pystudy_env",
   "language": "python",
   "name": "pystudy_env"
  },
  "language_info": {
   "codemirror_mode": {
    "name": "ipython",
    "version": 3
   },
   "file_extension": ".py",
   "mimetype": "text/x-python",
   "name": "python",
   "nbconvert_exporter": "python",
   "pygments_lexer": "ipython3",
   "version": "3.12.3"
  }
 },
 "nbformat": 4,
 "nbformat_minor": 2
}

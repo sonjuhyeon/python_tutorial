{
 "cells": [
  {
   "cell_type": "markdown",
   "metadata": {},
   "source": [
    "# 05. Set"
   ]
  },
  {
   "cell_type": "markdown",
   "metadata": {},
   "source": [
    "---"
   ]
  },
  {
   "cell_type": "markdown",
   "metadata": {},
   "source": [
    "## 05-01. Set 개요"
   ]
  },
  {
   "cell_type": "markdown",
   "metadata": {},
   "source": [
    "### 05-01-01. Set 이란"
   ]
  },
  {
   "cell_type": "markdown",
   "metadata": {},
   "source": [
    "* 중복된 요소를 허용하지 않으며 순서 없이 요소를 저장하는 컬렉션이다.\n",
    "    * 따라서 중복 제거가 필요할 때 유용하게 사용할 수 있다.\n",
    "* 중괄호{}를 사용해서 집합을 생성한다."
   ]
  },
  {
   "cell_type": "markdown",
   "metadata": {},
   "source": [
    "### 05-01-02. Set 표현식"
   ]
  },
  {
   "cell_type": "code",
   "execution_count": 352,
   "metadata": {},
   "outputs": [],
   "source": [
    "# 문자열로 집합 생성\n",
    "safari_set = {\"Bear\", \"Koara\", \"Gorilla\", \"Squirrel\"}\n",
    "\n",
    "# 리스트로 집합 생성\n",
    "another_safari_set = set([\"Monkey\", \"Tiger\", \"Wolf\"])\n",
    "\n",
    "# 숫자 집합\n",
    "numbers = {1, 2, 3, 4, 5}\n",
    "\n",
    "# 혼합된 타입 집합\n",
    "mixed_set = {1, \"Bear\", (1, 2, 3)}"
   ]
  },
  {
   "cell_type": "markdown",
   "metadata": {},
   "source": [
    "### 05-01-03. Set 특징"
   ]
  },
  {
   "cell_type": "markdown",
   "metadata": {},
   "source": [
    "1. 순서가 없는 자료형이며, 순서가 없으므로 인덱스를 사용한 접근이 불가능하다."
   ]
  },
  {
   "cell_type": "code",
   "execution_count": 353,
   "metadata": {},
   "outputs": [
    {
     "name": "stdout",
     "output_type": "stream",
     "text": [
      "{'Bear', 'Squirrel', 'Gorilla', 'Pig'}\n"
     ]
    }
   ],
   "source": [
    "ohgiraffers = {'Pig', 'Squirrel', 'Bear', 'Gorilla'}\n",
    "print(ohgiraffers)\n",
    "# print(ohgiraffers[0]);  # Error"
   ]
  },
  {
   "cell_type": "markdown",
   "metadata": {},
   "source": [
    "2. 중복을 허용하지 않으므로 동일한 값은 하나만 저장된다."
   ]
  },
  {
   "cell_type": "code",
   "execution_count": 354,
   "metadata": {},
   "outputs": [
    {
     "name": "stdout",
     "output_type": "stream",
     "text": [
      "{'Bear', 'Squirrel', 'Gorilla', 'Pig'}\n"
     ]
    }
   ],
   "source": [
    "ohgiraffers = {'Pig', 'Squirrel', 'Bear', 'Gorilla', 'Gorilla'}\n",
    "print(ohgiraffers)"
   ]
  },
  {
   "cell_type": "markdown",
   "metadata": {},
   "source": [
    "3. 가변성을 가진 자료형으로 데이터, 즉 요소를 추가하거나 제거할 수 있다.\n",
    "    - 순서가 없는 자료형으로 특정 요소에 접근할 수 없으므로 직접 변경은 할 수 없다."
   ]
  },
  {
   "cell_type": "code",
   "execution_count": 355,
   "metadata": {},
   "outputs": [
    {
     "name": "stdout",
     "output_type": "stream",
     "text": [
      "{'Bear', 'Squirrel', 'Gorilla', 'Pig'}\n"
     ]
    }
   ],
   "source": [
    "ohgiraffers = {'Pig', 'Squirrel', 'Bear', 'korilla'}\n",
    "\n",
    "ohgiraffers.remove('korilla')  # set의 데이터 중 remove의 값을 제거한다.\n",
    "ohgiraffers.add(\"Gorilla\")     # set에 add('값')을 추가한다.\n",
    "print(ohgiraffers)"
   ]
  },
  {
   "cell_type": "markdown",
   "metadata": {},
   "source": [
    "4. 다양한 데이터 타입을 지원한다."
   ]
  },
  {
   "cell_type": "code",
   "execution_count": 356,
   "metadata": {},
   "outputs": [
    {
     "name": "stdout",
     "output_type": "stream",
     "text": [
      "{1, 2, 3.0, 'Squirrel', 'pig', 'Bear', ('Gorilla',)}\n"
     ]
    }
   ],
   "source": [
    "ohgiraffers = {1,\"Squirrel\", 2,'Bear',3.0,'pig', tuple({'Gorilla'}) , True}\n",
    "print(ohgiraffers)"
   ]
  },
  {
   "cell_type": "markdown",
   "metadata": {},
   "source": [
    "5. 수학적 집합 연산(합집합, 교집합, 차집합 등)을 지원한다.\n",
    "    - 아래 주요 API 에서 확인해 보자"
   ]
  },
  {
   "cell_type": "markdown",
   "metadata": {},
   "source": [
    "6. in 키워드를 통해 포함 여부를 반환받을 수 있다."
   ]
  },
  {
   "cell_type": "code",
   "execution_count": 357,
   "metadata": {},
   "outputs": [
    {
     "name": "stdout",
     "output_type": "stream",
     "text": [
      "True\n"
     ]
    }
   ],
   "source": [
    "javaTeam = {'Squirrel','Gorilla', 'Tiger', 'Sheep', 'monkey', 'wolf'}\n",
    "pythonTeam = {'Pig', 'Squirrel', 'Bear', 'Gorilla'}\n",
    "\n",
    "print('Gorilla' in javaTeam)"
   ]
  },
  {
   "cell_type": "markdown",
   "metadata": {},
   "source": [
    "---"
   ]
  },
  {
   "cell_type": "markdown",
   "metadata": {},
   "source": [
    "## 05-02. Set 메서드"
   ]
  },
  {
   "cell_type": "markdown",
   "metadata": {},
   "source": [
    "### 05-02-01. 요소 추가 메서드"
   ]
  },
  {
   "cell_type": "markdown",
   "metadata": {},
   "source": [
    "1. add(값)은 set의 list에 인자로 전달받은 값을 추가한다."
   ]
  },
  {
   "cell_type": "code",
   "execution_count": 358,
   "metadata": {},
   "outputs": [
    {
     "name": "stdout",
     "output_type": "stream",
     "text": [
      "{'Gorilla', 'Squirrel', 'Elephant', 'Pig', 'Bear'}\n"
     ]
    }
   ],
   "source": [
    "ohgiraffers = {'Pig', 'Squirrel', 'Bear', 'Gorilla'}\n",
    "ohgiraffers.add(\"Elephant\")\n",
    "print(ohgiraffers)"
   ]
  },
  {
   "cell_type": "markdown",
   "metadata": {},
   "source": [
    "2. update(값)도 요소 값을 추가한다.\n",
    "    * 배열을 이용해 한번에 여러 개의 값을 추가하는 것도 가능하나, 이때도 중복된 값은 추가되지 않는다."
   ]
  },
  {
   "cell_type": "code",
   "execution_count": 359,
   "metadata": {},
   "outputs": [
    {
     "name": "stdout",
     "output_type": "stream",
     "text": [
      "{'Tiger', 'Monkey', 'Wolf'}\n",
      "{'Tiger', 'Squirrel', 'Monkey', 'Wolf'}\n"
     ]
    }
   ],
   "source": [
    "ohgiraffers = set([\"Monkey\", \"Tiger\", \"Wolf\"])\n",
    "print(ohgiraffers)\n",
    "\n",
    "ohgiraffers.update([\"Monkey\", \"Wolf\", \"Tiger\", \"Squirrel\"])\n",
    "print(ohgiraffers)"
   ]
  },
  {
   "cell_type": "markdown",
   "metadata": {},
   "source": [
    "### 05-02-02. 요소 제거 메서드"
   ]
  },
  {
   "cell_type": "markdown",
   "metadata": {},
   "source": [
    "1. remove(값)은 특정 요소를 제거하며, 값이 존재하지 않으면 Error를 발생시킨다."
   ]
  },
  {
   "cell_type": "code",
   "execution_count": 360,
   "metadata": {},
   "outputs": [
    {
     "name": "stdout",
     "output_type": "stream",
     "text": [
      "{'Bear', 'Squirrel', 'Gorilla'}\n"
     ]
    }
   ],
   "source": [
    "ohgiraffers = {'Pig', 'Squirrel', 'Bear', 'Gorilla'}\n",
    "# ohgiraffers.remove('Elephant') # Error\n",
    "ohgiraffers.remove('Pig');\n",
    "print(ohgiraffers)"
   ]
  },
  {
   "cell_type": "markdown",
   "metadata": {},
   "source": [
    "2. discard(값)은 특정 요소를 제거하며, 값이 존재하지 않아도 Error가 발생하지 않는다."
   ]
  },
  {
   "cell_type": "code",
   "execution_count": 361,
   "metadata": {},
   "outputs": [
    {
     "name": "stdout",
     "output_type": "stream",
     "text": [
      "{'Bear', 'Squirrel', 'Gorilla'}\n"
     ]
    }
   ],
   "source": [
    "ohgiraffers.discard(\"Elephant\")\n",
    "print(ohgiraffers)"
   ]
  },
  {
   "cell_type": "markdown",
   "metadata": {},
   "source": [
    "3. pop()은 임의의 값을 제거한다.\n",
    "    * 집합은 순서를 보장하지 않으므로, 어떤 값이 제거될지 예측할 수 없다."
   ]
  },
  {
   "cell_type": "code",
   "execution_count": 362,
   "metadata": {},
   "outputs": [
    {
     "name": "stdout",
     "output_type": "stream",
     "text": [
      "{'Squirrel', 'Gorilla'}\n"
     ]
    }
   ],
   "source": [
    "ohgiraffers.pop()\n",
    "print(ohgiraffers)"
   ]
  },
  {
   "cell_type": "markdown",
   "metadata": {},
   "source": [
    "4. clear()는 모든 값을 제거한다."
   ]
  },
  {
   "cell_type": "code",
   "execution_count": 363,
   "metadata": {},
   "outputs": [
    {
     "name": "stdout",
     "output_type": "stream",
     "text": [
      "set()\n"
     ]
    }
   ],
   "source": [
    "ohgiraffers.clear()\n",
    "print(ohgiraffers)"
   ]
  },
  {
   "cell_type": "markdown",
   "metadata": {},
   "source": [
    "### 05-02-03. 집합 연산"
   ]
  },
  {
   "cell_type": "markdown",
   "metadata": {},
   "source": [
    "1. union() : 두 set 자료형을 합친다. (= 합집합)"
   ]
  },
  {
   "cell_type": "code",
   "execution_count": 364,
   "metadata": {},
   "outputs": [
    {
     "name": "stdout",
     "output_type": "stream",
     "text": [
      "{'wolf', 'Sheep', 'Tiger', 'Gorilla', 'monkey', 'Squirrel', 'Pig', 'Bear'}\n",
      "{'wolf', 'Sheep', 'Tiger', 'Gorilla', 'monkey', 'Squirrel', 'Pig', 'Bear'}\n"
     ]
    }
   ],
   "source": [
    "javaTeam = {'Squirrel','Gorilla', 'Tiger', 'Sheep', 'monkey', 'wolf'}\n",
    "pythonTeam = {'Pig', 'Squirrel', 'Bear', 'Gorilla'}\n",
    "\n",
    "ohgiraffers = javaTeam.union(pythonTeam)\n",
    "print(javaTeam | pythonTeam)\n",
    "print(ohgiraffers)"
   ]
  },
  {
   "cell_type": "markdown",
   "metadata": {},
   "source": [
    "2. intersection () : 두 set 자료형의 교집합을 반환한다."
   ]
  },
  {
   "cell_type": "code",
   "execution_count": 365,
   "metadata": {},
   "outputs": [
    {
     "name": "stdout",
     "output_type": "stream",
     "text": [
      "{'Squirrel', 'Gorilla'}\n",
      "{'Squirrel', 'Gorilla'}\n"
     ]
    }
   ],
   "source": [
    "print(javaTeam & pythonTeam)\n",
    "print(javaTeam.intersection(pythonTeam))"
   ]
  },
  {
   "cell_type": "markdown",
   "metadata": {},
   "source": [
    "3. difference() : 두 set 자료형의 차집합을 반환한다.\n",
    "    * 좌항을 기준으로 우항의 차집합을 반환한다."
   ]
  },
  {
   "cell_type": "code",
   "execution_count": 366,
   "metadata": {},
   "outputs": [
    {
     "name": "stdout",
     "output_type": "stream",
     "text": [
      "{'monkey', 'wolf', 'Sheep', 'Tiger'}\n",
      "{'monkey', 'wolf', 'Sheep', 'Tiger'}\n"
     ]
    }
   ],
   "source": [
    "print(javaTeam - pythonTeam)\n",
    "print(javaTeam.difference(pythonTeam))"
   ]
  },
  {
   "cell_type": "markdown",
   "metadata": {},
   "source": [
    "4. symmetric_difference() : 대칭 차집합을 반환한다.\n",
    "    * 양쪽 모두의 차집합을 반환한다."
   ]
  },
  {
   "cell_type": "code",
   "execution_count": 367,
   "metadata": {},
   "outputs": [
    {
     "name": "stdout",
     "output_type": "stream",
     "text": [
      "{'wolf', 'Sheep', 'Tiger', 'monkey', 'Pig', 'Bear'}\n",
      "{'wolf', 'Sheep', 'Tiger', 'monkey', 'Pig', 'Bear'}\n"
     ]
    }
   ],
   "source": [
    "print(javaTeam ^ pythonTeam)\n",
    "print(javaTeam.symmetric_difference(pythonTeam))"
   ]
  },
  {
   "cell_type": "markdown",
   "metadata": {},
   "source": [
    "### 05-02-04. 복사 메서드"
   ]
  },
  {
   "cell_type": "markdown",
   "metadata": {},
   "source": [
    "1. copy()는 대상 set을 복사하여 반환한다."
   ]
  },
  {
   "cell_type": "code",
   "execution_count": 368,
   "metadata": {},
   "outputs": [
    {
     "name": "stdout",
     "output_type": "stream",
     "text": [
      "{'wolf', 'Sheep', 'Tiger', 'Gorilla', 'monkey', 'Squirrel'}\n",
      "{'wolf', 'Sheep', 'Tiger', 'Gorilla', 'monkey', 'Squirrel'}\n",
      "{'wolf', 'Sheep', 'Tiger', 'Gorilla', 'monkey', 'Squirrel'}\n",
      "{'wolf', 'Sheep', 'Gorilla', 'monkey', 'Squirrel'}\n"
     ]
    }
   ],
   "source": [
    "ohgiraffers = {'Squirrel','Gorilla', 'Tiger', 'Sheep', 'monkey', 'wolf'}\n",
    "zzap_ohgiraffers = ohgiraffers.copy();\n",
    "print(ohgiraffers)\n",
    "print(zzap_ohgiraffers)\n",
    "\n",
    "zzap_ohgiraffers.remove('Tiger')\n",
    "print(ohgiraffers)\n",
    "print(zzap_ohgiraffers)"
   ]
  }
 ],
 "metadata": {
  "kernelspec": {
   "display_name": "pystudy_env",
   "language": "python",
   "name": "pystudy_env"
  },
  "language_info": {
   "codemirror_mode": {
    "name": "ipython",
    "version": 3
   },
   "file_extension": ".py",
   "mimetype": "text/x-python",
   "name": "python",
   "nbconvert_exporter": "python",
   "pygments_lexer": "ipython3",
   "version": "3.12.3"
  }
 },
 "nbformat": 4,
 "nbformat_minor": 2
}

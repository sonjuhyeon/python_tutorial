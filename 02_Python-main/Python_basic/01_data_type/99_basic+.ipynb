{
 "cells": [
  {
   "cell_type": "markdown",
   "metadata": {},
   "source": [
    "### List\n",
    "\n",
    "\n",
    "* python 의 할당 연산자는 데이터를 복사하지 않고 기존 목록을 참조한다.(자바의 얕은 복사)\n",
    "* 슬라이싱을 이용하면 요청한 요소를 포함한 새 목록을 반환한다. (깊은 복사)"
   ]
  },
  {
   "cell_type": "code",
   "execution_count": 7,
   "metadata": {},
   "outputs": [
    {
     "name": "stdout",
     "output_type": "stream",
     "text": [
      "[20, 30, 40]\n",
      "['Tiger', 'Wolf', 'Sheap', ' Monkey', 'Gorila']\n",
      "[[20, 30, 40], ['Tiger', 'Wolf', 'Sheap', ' Monkey', 'Gorila']]\n",
      "\n",
      "20\n",
      "Tiger\n",
      "['Tiger', 'Wolf', 'Sheap', ' Monkey', 'Gorila']\n"
     ]
    }
   ],
   "source": [
    "ages = [20, 30, 40]\n",
    "animals = ['Tiger', 'Wolf', 'Sheap', ' Monkey', \"Gorila\"]\n",
    "comp_list = [ages, animals]\n",
    "\n",
    "print(ages)\n",
    "print(animals)\n",
    "print(comp_list)\n",
    "print()\n",
    "\n",
    "# 인덱스를 통해 하나의 요소씩 선택할 수 있다.\n",
    "print(ages[0])\n",
    "print(animals[0])\n",
    "print(comp_list[1])"
   ]
  },
  {
   "cell_type": "markdown",
   "metadata": {},
   "source": [
    "* 문자열을 구분자 기준으로 분리 할 수 있다. 이경우에 List로 저장이 된다."
   ]
  },
  {
   "cell_type": "code",
   "execution_count": 9,
   "metadata": {},
   "outputs": [
    {
     "name": "stdout",
     "output_type": "stream",
     "text": [
      "['2024', '12', '16']\n"
     ]
    }
   ],
   "source": [
    "finish_a_course = '2024-12-16'\n",
    "print(finish_a_course.split('-'))"
   ]
  },
  {
   "cell_type": "markdown",
   "metadata": {},
   "source": [
    "* 리스트 슬라이싱"
   ]
  },
  {
   "cell_type": "code",
   "execution_count": 14,
   "metadata": {},
   "outputs": [
    {
     "name": "stdout",
     "output_type": "stream",
     "text": [
      "['pandas', 1, 2, 3, ['a', 'b', 'c']]\n",
      "['python', 'numpy']\n",
      "nu\n",
      "b\n"
     ]
    }
   ],
   "source": [
    "list = ['Bear', 'Pig', 'Gorilla', 1, 2, 3, ['a','b','c']]\n",
    "\n",
    "print(list[2:])\n",
    "print(list[:2])\n",
    "print(list[1][:2])\n",
    "print(list[6][0])"
   ]
  },
  {
   "cell_type": "markdown",
   "metadata": {},
   "source": [
    "* 리스트 길이 추출 및 연산해보기"
   ]
  },
  {
   "cell_type": "code",
   "execution_count": 20,
   "metadata": {},
   "outputs": [
    {
     "name": "stdout",
     "output_type": "stream",
     "text": [
      "4\n",
      "3\n",
      "['Bear', 'Koara', 'Gorilla', 'squirrel', 'Monkey', 'Tiger', 'Wolf']\n",
      "['Bear', 'Koara', 'Gorilla', 'squirrel', 'Bear', 'Koara', 'Gorilla', 'squirrel', 'Bear', 'Koara', 'Gorilla', 'squirrel', 'Bear', 'Koara', 'Gorilla', 'squirrel']\n",
      "['Panda', 'Koara', 'Gorilla', 'squirrel']\n",
      "Gorilla\n",
      "squirrel\n"
     ]
    }
   ],
   "source": [
    "safari_list = [\"Bear\", \"Koara\", \"Gorilla\", \"Squirrel\"]\n",
    "another_safari_list = [\"Monkey\", \"Tiger\", \"Wolf\"]\n",
    "\n",
    "print(len(safari_list))\n",
    "print(len(another_safari_set))\n",
    "\n",
    "# 리스트 더하기\n",
    "print(safari_list + another_safari_list)\n",
    "\n",
    "# 리스트 곱하기\n",
    "print(safari_list * 4)\n",
    "\n",
    "# 리스트 수정하기\n",
    "safari_list[0] = 'Panda'\n",
    "print(safari_list)\n",
    "\n",
    "#리스트 삭제하기\n",
    "#중간 인덱스 삭제 시, 이후 인덱스 값이 앞으로 당겨짐\n",
    "print(safari_list[2])\n",
    "del safari_list[2]\n",
    "print(safari_list[2])"
   ]
  },
  {
   "cell_type": "markdown",
   "metadata": {},
   "source": [
    "* 리스트 관련 추가 함수"
   ]
  },
  {
   "cell_type": "code",
   "execution_count": 69,
   "metadata": {},
   "outputs": [
    {
     "name": "stdout",
     "output_type": "stream",
     "text": [
      "6\n",
      "[3, 4, 7, 7, 10, 12]\n",
      "[12, 10, 7, 7, 4, 3]\n",
      "[12, 10, 7, 7, 4, 3, 1]\n",
      "[12, 10, 7, 7, 4, 3, 1, [1, 3, 4]]\n",
      "[12, 10, 7, 7, 4, 3, 1, [1, 3, 4], 1, 3, 4]\n",
      "[12, 8, 10, 7, 7, 4, 3, 1, [1, 3, 4], 1, 3, 4]\n",
      "[12, 8, 7, 7, 4, 3, 1, [1, 3, 4], 1, 3, 4]\n",
      "8\n",
      "2\n"
     ]
    }
   ],
   "source": [
    "numbers = [10, 3, 7, 12, 4, 7]\n",
    "\n",
    "# 리스트 길이\n",
    "print(len(numbers))\n",
    "\n",
    "# 정렬하기\n",
    "numbers.sort()\n",
    "print(numbers)\n",
    "\n",
    "# 뒤집기\n",
    "numbers.reverse()\n",
    "print(numbers)\n",
    "\n",
    "# 리스트에 요소 추가\n",
    "numbers.append(1)\n",
    "print(numbers)\n",
    "numbers.append([1, 3, 4])\n",
    "print(numbers)\n",
    "\n",
    "# 리스트에 리스트 요소 추가\n",
    "numbers.extend([1, 3, 4])\n",
    "print(numbers)\n",
    "\n",
    "# 리스트 중간에 요소 추가\n",
    "numbers.insert(1, 8)\n",
    "print(numbers)\n",
    "\n",
    "# 입력 받은 값과 처음으로 일치하는 요소 삭제\n",
    "numbers.remove(10)\n",
    "print(numbers)\n",
    "\n",
    "# 맨 마지막 요소 추출\n",
    "print(numbers.pop(1))\n",
    "\n",
    "# 입력 받은 값과 일치하는 리스트 요소 개수\n",
    "print(numbers.count(3))"
   ]
  },
  {
   "cell_type": "markdown",
   "metadata": {},
   "source": [
    "* python 의 할당 연산자는 데이터를 복사하지 않고 기존 목록을 참조합니다.(자바의 얕은 복사)"
   ]
  },
  {
   "cell_type": "code",
   "execution_count": 31,
   "metadata": {},
   "outputs": [
    {
     "name": "stdout",
     "output_type": "stream",
     "text": [
      "['Bear', 'Gorilla', 'Pig', 'Squirrel', 'Koala']\n"
     ]
    }
   ],
   "source": [
    "safari1 = [\"Bear\", \"Gorilla\", \"Pig\", \"Squirrel\"]\n",
    "safari2 = safari1\n",
    "\n",
    "# id() : 주소값 식별 연산자 \n",
    "id(safari1) == id(safari2)   \n",
    "\n",
    "safari2.append(\"Koala\")\n",
    "print(safari1)"
   ]
  },
  {
   "cell_type": "markdown",
   "metadata": {},
   "source": [
    "* 슬라이싱을 이용하면 요청한 요소를 포함한 새 목록을 반환합니다. (깊은 복사)"
   ]
  },
  {
   "cell_type": "code",
   "execution_count": 38,
   "metadata": {},
   "outputs": [
    {
     "name": "stdout",
     "output_type": "stream",
     "text": [
      "['Bear', 'Gorilla', 'Pig', 'Squirrel', 'Koala']\n",
      "['Bear', 'Gorilla', 'Pig', 'Squirrel', 'Monkey']\n"
     ]
    }
   ],
   "source": [
    "correct_safari1 = safari1[:]\n",
    "correct_safari1[4] = \"Monkey\"\n",
    "\n",
    "print(safari1)\n",
    "print(correct_safari1)"
   ]
  },
  {
   "cell_type": "markdown",
   "metadata": {},
   "source": [
    "* 슬라이스를 이용해 부분에 할당하는 것도 가능하며 목록의 크기를 변경하거나 지울 수 있습니다."
   ]
  },
  {
   "cell_type": "code",
   "execution_count": 67,
   "metadata": {},
   "outputs": [
    {
     "name": "stdout",
     "output_type": "stream",
     "text": [
      "['I', 'H', 'A', 'T', 'E', 'Y', 'O', 'U']\n",
      "['I', 'L', 'O', 'V', 'E', 'Y', 'O', 'U']\n",
      "['I', 'L', 'O', 'V', 'E', 'Y', 'O', 'U', 'T', 'O', 'O']\n"
     ]
    }
   ],
   "source": [
    "letters = ['I', 'H', 'A', 'T', 'E', 'Y', 'O', \"U\"]\n",
    "print(letters)\n",
    "\n",
    "letters[1:5]=['L','O','V','E']\n",
    "print(letters)\n",
    "\n",
    "letters[8:]=['T','O','O']\n",
    "print(letters)"
   ]
  },
  {
   "cell_type": "markdown",
   "metadata": {},
   "source": [
    "* 리스트 중첩도 가능하다."
   ]
  },
  {
   "cell_type": "code",
   "execution_count": 71,
   "metadata": {},
   "outputs": [
    {
     "name": "stdout",
     "output_type": "stream",
     "text": [
      "[['I'], ['L', 'O', 'V', 'E'], ['Y', 'O', 'U']]\n"
     ]
    }
   ],
   "source": [
    "word1 = ['I']\n",
    "word2 = ['L','O','V','E']\n",
    "word3 = ['Y','O','U']\n",
    "\n",
    "letters = [word1, word2, word3]\n",
    "\n",
    "print(letters)"
   ]
  },
  {
   "cell_type": "markdown",
   "metadata": {},
   "source": [
    "## Dictionary\n",
    "\n",
    "* key-value 쌍으로 구성된 자료형\n",
    "* 키(key)를 통해 키에 해당하는 값(value)을 찾을 수 있다.\n",
    "* 연관 배열(associative array) 또는 해시(hash)라고 한다."
   ]
  }
 ],
 "metadata": {
  "kernelspec": {
   "display_name": "pystudy_env",
   "language": "python",
   "name": "pystudy_env"
  },
  "language_info": {
   "codemirror_mode": {
    "name": "ipython",
    "version": 3
   },
   "file_extension": ".py",
   "mimetype": "text/x-python",
   "name": "python",
   "nbconvert_exporter": "python",
   "pygments_lexer": "ipython3",
   "version": "3.12.3"
  }
 },
 "nbformat": 4,
 "nbformat_minor": 2
}

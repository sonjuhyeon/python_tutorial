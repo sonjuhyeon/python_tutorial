{
 "cells": [
  {
   "cell_type": "markdown",
   "metadata": {},
   "source": [
    "# 01. 기본 자료형"
   ]
  },
  {
   "cell_type": "markdown",
   "metadata": {},
   "source": [
    "---"
   ]
  },
  {
   "cell_type": "markdown",
   "metadata": {},
   "source": [
    "## 01-01. 숫자형 (Numeric)"
   ]
  },
  {
   "cell_type": "markdown",
   "metadata": {},
   "source": [
    "### 01-01-01. 숫자형 종류"
   ]
  },
  {
   "cell_type": "markdown",
   "metadata": {},
   "source": [
    "* int : 정수 값을 가지는 자료형\n",
    "* float : 부동소수점 값을 가지는 자료형\n",
    "* complex : 복소수 값을 가지는 자료형"
   ]
  },
  {
   "cell_type": "code",
   "execution_count": 1,
   "metadata": {},
   "outputs": [
    {
     "name": "stdout",
     "output_type": "stream",
     "text": [
      "<class 'int'>\n",
      "<class 'int'>\n",
      "<class 'float'>\n",
      "<class 'float'>\n",
      "<class 'complex'>\n"
     ]
    }
   ],
   "source": [
    "# int\n",
    "num1 = 1\n",
    "num2 = -1\n",
    "\n",
    "print(type(num1))\n",
    "print(type(num2))\n",
    "\n",
    "# float\n",
    "num3 = 3.14\n",
    "num4 = 1.0\n",
    "\n",
    "print(type(num3))\n",
    "print(type(num4))\n",
    "\n",
    "# complex\n",
    "num5 = 3 + 4j\n",
    "print(type(num5)) "
   ]
  },
  {
   "cell_type": "markdown",
   "metadata": {},
   "source": [
    "### 01-01-02. 숫자형 간 연산"
   ]
  },
  {
   "cell_type": "markdown",
   "metadata": {},
   "source": [
    "* 사칙연산"
   ]
  },
  {
   "cell_type": "code",
   "execution_count": 2,
   "metadata": {},
   "outputs": [
    {
     "name": "stdout",
     "output_type": "stream",
     "text": [
      "13\n",
      "7\n",
      "30\n",
      "3.3333333333333335\n",
      "10.1\n",
      "9.9\n",
      "1.0\n",
      "100.0\n"
     ]
    }
   ],
   "source": [
    "num1 = 10\n",
    "num2 = 3\n",
    "\n",
    "print(num1 + num2)\n",
    "print(num1 - num2)\n",
    "print(num1 * num2)\n",
    "print(num1 / num2)\n",
    "\n",
    "# 서로 다른 자료형의 피연산자를 갖는 경우 정수형을 실수형으로 자동 변환\n",
    "num3 = 10\n",
    "num4 = 0.1\n",
    "\n",
    "print(num3 + num4)\n",
    "print(num3 - num4)\n",
    "print(num3 * num4)\n",
    "print(num3 / num4)"
   ]
  },
  {
   "cell_type": "markdown",
   "metadata": {},
   "source": [
    "* 나눗셈 나머지 연산과 몫 연산"
   ]
  },
  {
   "cell_type": "code",
   "execution_count": 3,
   "metadata": {},
   "outputs": [
    {
     "name": "stdout",
     "output_type": "stream",
     "text": [
      "1.5714285714285714\n",
      "4\n",
      "1\n"
     ]
    }
   ],
   "source": [
    "num1 = 11\n",
    "num2 = 7\n",
    "\n",
    "# 나눗셈 연산\n",
    "print(num1 / num2)\n",
    "\n",
    "# 나머지 연산\n",
    "print(num1 % num2)\n",
    "\n",
    "# 몫만 구하는 연산\n",
    "print(num1 // num2)"
   ]
  },
  {
   "cell_type": "markdown",
   "metadata": {},
   "source": [
    "* 제곱연산"
   ]
  },
  {
   "cell_type": "code",
   "execution_count": 4,
   "metadata": {},
   "outputs": [
    {
     "name": "stdout",
     "output_type": "stream",
     "text": [
      "81\n"
     ]
    }
   ],
   "source": [
    "base = 9\n",
    "exponent = 2\n",
    "\n",
    "print(base ** exponent)"
   ]
  },
  {
   "cell_type": "markdown",
   "metadata": {},
   "source": [
    "* 값과 연산자 입력만으로 연산을 수행할 수 있다.\n"
   ]
  },
  {
   "cell_type": "code",
   "execution_count": 5,
   "metadata": {},
   "outputs": [
    {
     "data": {
      "text/plain": [
       "4"
      ]
     },
     "execution_count": 5,
     "metadata": {},
     "output_type": "execute_result"
    }
   ],
   "source": [
    "2 + 2"
   ]
  },
  {
   "cell_type": "markdown",
   "metadata": {},
   "source": [
    "---"
   ]
  },
  {
   "cell_type": "markdown",
   "metadata": {},
   "source": [
    "## 01-02. 논리형 (Bool)"
   ]
  },
  {
   "cell_type": "markdown",
   "metadata": {},
   "source": [
    "### 01-02-01. 논리형이란"
   ]
  },
  {
   "cell_type": "markdown",
   "metadata": {},
   "source": [
    "* true 또는 false 값을 가지는 자료형"
   ]
  },
  {
   "cell_type": "code",
   "execution_count": 6,
   "metadata": {},
   "outputs": [
    {
     "name": "stdout",
     "output_type": "stream",
     "text": [
      "<class 'bool'>\n",
      "<class 'bool'>\n"
     ]
    }
   ],
   "source": [
    "bool1 = True\n",
    "bool2 = False\n",
    "\n",
    "print(type(bool1))\n",
    "print(type(bool2))"
   ]
  },
  {
   "cell_type": "markdown",
   "metadata": {},
   "source": [
    "---"
   ]
  },
  {
   "cell_type": "markdown",
   "metadata": {},
   "source": [
    "## 01-03. 문자형 (String)"
   ]
  },
  {
   "cell_type": "markdown",
   "metadata": {},
   "source": [
    "### 01-03-01. 문자형 선언"
   ]
  },
  {
   "cell_type": "markdown",
   "metadata": {},
   "source": [
    "* 쌍따옴표(\" \") 또는 홀따옴표(' ')를 사용하여 문자형 리터럴을 선언할 수 있다."
   ]
  },
  {
   "cell_type": "code",
   "execution_count": 7,
   "metadata": {},
   "outputs": [
    {
     "name": "stdout",
     "output_type": "stream",
     "text": [
      "apple\n"
     ]
    }
   ],
   "source": [
    "fruit = 'apple'\n",
    "print(fruit)"
   ]
  },
  {
   "cell_type": "markdown",
   "metadata": {},
   "source": [
    "* str 함수를 활용하면 숫자형을 문자열로 변환할 수 있다."
   ]
  },
  {
   "cell_type": "code",
   "execution_count": 8,
   "metadata": {},
   "outputs": [
    {
     "name": "stdout",
     "output_type": "stream",
     "text": [
      "<class 'int'>\n",
      "<class 'str'>\n"
     ]
    }
   ],
   "source": [
    "capacity = 300\n",
    "\n",
    "print(type(capacity))\n",
    "\n",
    "new_capacity = str(300)\n",
    "print(type(new_capacity))"
   ]
  },
  {
   "cell_type": "markdown",
   "metadata": {},
   "source": [
    "* 삼중 따옴표를 사용해 여러 줄로 출력할 수 있다."
   ]
  },
  {
   "cell_type": "code",
   "execution_count": 9,
   "metadata": {},
   "outputs": [
    {
     "name": "stdout",
     "output_type": "stream",
     "text": [
      "\n",
      "Long 코트보다 긴건 뭔지 아시나요?\n",
      "double 코트\n",
      "그럼 짧은건?\n",
      "int 패딩\n",
      "\n"
     ]
    }
   ],
   "source": [
    "print(\"\"\"\n",
    "Long 코트보다 긴건 뭔지 아시나요?\n",
    "double 코트\n",
    "그럼 짧은건?\n",
    "int 패딩\n",
    "\"\"\")"
   ]
  },
  {
   "cell_type": "markdown",
   "metadata": {},
   "source": [
    "### 01-03-02. 문자형 인덱스"
   ]
  },
  {
   "cell_type": "markdown",
   "metadata": {},
   "source": [
    "* 문자열은 index를 가지고 있어 인덱싱을 통해 원하는 위치의 문자 하나를 추출할 수 있다."
   ]
  },
  {
   "cell_type": "code",
   "execution_count": 10,
   "metadata": {},
   "outputs": [
    {
     "name": "stdout",
     "output_type": "stream",
     "text": [
      "서\n",
      "서\n"
     ]
    }
   ],
   "source": [
    "address = '대한민국 서울시 서초구'\n",
    "\n",
    "print(address[5])\n",
    "print(address[9])"
   ]
  },
  {
   "cell_type": "markdown",
   "metadata": {},
   "source": [
    "* index를 사용하여 기존 문자열에서 원하는 만큼의 문자열을 추출할 수 있다. (= 문자열 슬라이싱)\n",
    "* index를 음수로 지정하면 문자열 끝에서부터 시작한다.\n",
    "* (시작 인덱스) : [(끝 인덱스)] : [(오프셋)] 으로 문자열을 추출할 수 있다.\n",
    "  * 시작 인덱스: 문자열에서 추출할 내용이 시작하는 인덱스\n",
    "  * 끝 인덱스: 문자열에서 추출할 내용의 끝 글자 다음 인덱스\n",
    "  * 오프셋: 시작 인덱스부터 오프셋 숫자만큼 더한 인덱스 위치마다에서 추출"
   ]
  },
  {
   "cell_type": "code",
   "execution_count": 11,
   "metadata": {},
   "outputs": [
    {
     "name": "stdout",
     "output_type": "stream",
     "text": [
      "서초구\n",
      "서초구\n",
      "서울시\n",
      "한서서\n",
      "구초서 시울서 국민한대\n"
     ]
    }
   ],
   "source": [
    "address = '대한민국 서울시 서초구'\n",
    "\n",
    "print(address[9:])      # 9번 인덱스부터 끝까지\n",
    "print(address[-3:])     # 뒤에서 3번째 인덱스부터 끝까지\n",
    "print(address[5:8])     # 5번 인덱스부터 8번 인덱스 전까지\n",
    "print(address[1:12:4])  # 1번 인덱스부터 12번 인덱스 전까지 추출하는데 4개씩 건너뛰면서 추출\n",
    "print(address[::-1])    # 슬라이싱을 이용해 [::-1]을 주면 문자열 뒤집기"
   ]
  },
  {
   "cell_type": "markdown",
   "metadata": {},
   "source": [
    "### 01-03-03. 문자형 연산"
   ]
  },
  {
   "cell_type": "markdown",
   "metadata": {},
   "source": [
    "* 문자형 간 +연산으로 문자열 이어붙이기를 할 수 있다."
   ]
  },
  {
   "cell_type": "code",
   "execution_count": 12,
   "metadata": {},
   "outputs": [
    {
     "name": "stdout",
     "output_type": "stream",
     "text": [
      "반갑습니다람쥐\n",
      "반갑습니다. 다람쥐입니다!\n",
      "900살 다람쥐이올시다.\n"
     ]
    }
   ],
   "source": [
    "greeting = \"반갑습니\"\n",
    "name = \"다람쥐\"\n",
    "\n",
    "print(greeting + name)\n",
    "print(greeting + \"다. \" + name + \"입니다!\")\n",
    "\n",
    "# print(900 + \"살 \" + name + \"이올시다.\")  # 자동 형 변환 불가\n",
    "print(str(900) + \"살 \" + name + \"이올시다.\")"
   ]
  },
  {
   "cell_type": "markdown",
   "metadata": {},
   "source": [
    "* 문자형에 *연산을 통해 반복할 수 있다."
   ]
  },
  {
   "cell_type": "code",
   "execution_count": 13,
   "metadata": {},
   "outputs": [
    {
     "name": "stdout",
     "output_type": "stream",
     "text": [
      "무슨 일이든 시작 전에 세 번만 외쳐보자. 나는 python을 잘할 수 있다! 나는 python을 잘할 수 있다! 나는 python을 잘할 수 있다! \n"
     ]
    }
   ],
   "source": [
    "subject = \"python\"\n",
    "print(\"무슨 일이든 시작 전에 세 번만 외쳐보자. \" + (\"나는 \" + subject + \"을 잘할 수 있다! \") * 3)"
   ]
  },
  {
   "cell_type": "markdown",
   "metadata": {},
   "source": [
    "### 01-03-04. 문자형 관련 메서드"
   ]
  },
  {
   "cell_type": "markdown",
   "metadata": {},
   "source": [
    "1. replace()\n",
    "    * 문자열을 치환하는 메서드이다."
   ]
  },
  {
   "cell_type": "code",
   "execution_count": 14,
   "metadata": {},
   "outputs": [
    {
     "name": "stdout",
     "output_type": "stream",
     "text": [
      "2024-12-16\n"
     ]
    }
   ],
   "source": [
    "enroll_date = '2024/12/16'\n",
    "\n",
    "rep_enroll_date = enroll_date.replace(\"/\", \"-\")\n",
    "\n",
    "print(rep_enroll_date)"
   ]
  },
  {
   "cell_type": "markdown",
   "metadata": {},
   "source": [
    "2. strip([chars])\n",
    "  * 인자는 제거할 문자 집합을 지정하는 문자열이다.\n",
    "  * 문자열의 선행과 후행에서 해당 문자가 제거된 문자열의 복사본을 반환한다.\n",
    "  * 인자를 생략하면 공백을 제거한다."
   ]
  },
  {
   "cell_type": "code",
   "execution_count": 15,
   "metadata": {},
   "outputs": [
    {
     "name": "stdout",
     "output_type": "stream",
     "text": [
      "oh giraffers\n",
      "h giraffers\n",
      "hgiraffer\n",
      "hgiraffers\n",
      "ohgiraffer\n"
     ]
    }
   ],
   "source": [
    "origin = 'ohgiraffers'\n",
    "with_white_space = '   oh giraffers  '\n",
    "\n",
    "# 인자 생략 - 공백 제거\n",
    "print(with_white_space.strip())\n",
    "\n",
    "# '   o'까지 제거\n",
    "print(with_white_space.strip('   o'))\n",
    "\n",
    "# 'os' 제거\n",
    "print(origin.strip('os'))\n",
    "\n",
    "# lstrip() - 선행만 제거\n",
    "print(origin.lstrip('os'))\n",
    "\n",
    "# rstrip() - 후행만 제거\n",
    "print(origin.rstrip('os'))"
   ]
  },
  {
   "cell_type": "markdown",
   "metadata": {},
   "source": [
    "3. 대소문자 관련 메서드\n",
    "    * upper() : 대문자로 변경\n",
    "    * lower() : 소문자로 변경\n",
    "    * capitalize() : 첫 글자만 대문자로 변경"
   ]
  },
  {
   "cell_type": "code",
   "execution_count": 16,
   "metadata": {},
   "outputs": [
    {
     "name": "stdout",
     "output_type": "stream",
     "text": [
      "HELLO WORLD!\n",
      "hello world!\n",
      "Hello world!\n"
     ]
    }
   ],
   "source": [
    "origin_str = 'hELLO wORLD!'\n",
    "\n",
    "print(origin_str.upper())\n",
    "print(origin_str.lower())\n",
    "print(origin_str.capitalize())"
   ]
  },
  {
   "cell_type": "markdown",
   "metadata": {},
   "source": [
    "### 01-03-05. 문자형 포맷"
   ]
  },
  {
   "cell_type": "markdown",
   "metadata": {},
   "source": [
    "* 변수 포맷을 사용하여 문자열에 변수 값을 삽입할 수 있다.\n",
    "* 변수 포맷 종류\n",
    "  * %s : 문자열\n",
    "  * %c : 문자\n",
    "  * %d : 정수\n",
    "  * %f : 실수"
   ]
  },
  {
   "cell_type": "code",
   "execution_count": 17,
   "metadata": {},
   "outputs": [
    {
     "name": "stdout",
     "output_type": "stream",
     "text": [
      "x is 10\n",
      "y is code\n"
     ]
    }
   ],
   "source": [
    "x = 10\n",
    "print(\"x is %d\" %x)\n",
    "\n",
    "y = \"code\"\n",
    "print(\"y is %s\" % y)"
   ]
  },
  {
   "cell_type": "markdown",
   "metadata": {},
   "source": [
    "* format 함수를 이용하면 타입 명시 없이 사용 가능하다.<br>\n",
    "  (이때 더 큰 범위로만 자동 형변환됨)\n",
    "  ```\n",
    "  {인덱스0}, {인덱스1} = {인덱스2} .format(a,b,a*b)\n",
    "  ```"
   ]
  },
  {
   "cell_type": "code",
   "execution_count": 18,
   "metadata": {},
   "outputs": [
    {
     "name": "stdout",
     "output_type": "stream",
     "text": [
      "x is 10\n",
      "x is 10 y is code\n",
      "x is 10 and y is code\n"
     ]
    }
   ],
   "source": [
    "x, y = 10, \"code\"\n",
    "\n",
    "print(\"x is {0}\" .format(x))  \n",
    "print(\"x is {0} y is {1}\"  .format(x,y))\n",
    "print(\"x is {new_x} and y is {new_y}\" .format(new_x=x, new_y=y))"
   ]
  },
  {
   "cell_type": "markdown",
   "metadata": {},
   "source": [
    "---"
   ]
  },
  {
   "cell_type": "markdown",
   "metadata": {},
   "source": [
    "### [참고] 형 변환"
   ]
  },
  {
   "cell_type": "markdown",
   "metadata": {},
   "source": [
    "1. 암시적 형 변환"
   ]
  },
  {
   "cell_type": "code",
   "execution_count": 19,
   "metadata": {},
   "outputs": [
    {
     "name": "stdout",
     "output_type": "stream",
     "text": [
      "4\n",
      "8.0\n"
     ]
    }
   ],
   "source": [
    "print(True + 3)\n",
    "print(3 + 5.0)\n",
    "# print(3 + \"5\")  # 암시적 변환 불가능"
   ]
  },
  {
   "cell_type": "markdown",
   "metadata": {},
   "source": [
    "2. 명시적 형 변환"
   ]
  },
  {
   "cell_type": "markdown",
   "metadata": {},
   "source": [
    "- str, float ⇒ int (단, 형식에 맞는 문자열만 정수로 변환 가능)"
   ]
  },
  {
   "cell_type": "code",
   "execution_count": 20,
   "metadata": {},
   "outputs": [
    {
     "name": "stdout",
     "output_type": "stream",
     "text": [
      "7\n"
     ]
    }
   ],
   "source": [
    "print(int('3') + 4)\n",
    "\n",
    "# print(int(\"3.5\") + 2)  # 불가"
   ]
  },
  {
   "cell_type": "markdown",
   "metadata": {},
   "source": [
    "- str(참고), int ⇒ float (단, 형식에 맞는 문자열만 float로 변환 가능)"
   ]
  },
  {
   "cell_type": "code",
   "execution_count": 21,
   "metadata": {},
   "outputs": [
    {
     "name": "stdout",
     "output_type": "stream",
     "text": [
      "3.0\n"
     ]
    }
   ],
   "source": [
    "print(float('3'))"
   ]
  },
  {
   "cell_type": "markdown",
   "metadata": {},
   "source": [
    "- int, float, list, tuple, dict ⇒ str  (문자열 변환은 전부 가능)"
   ]
  },
  {
   "cell_type": "code",
   "execution_count": 22,
   "metadata": {},
   "outputs": [
    {
     "name": "stdout",
     "output_type": "stream",
     "text": [
      "1\n",
      "1.0\n",
      "{1, 2, 3}\n"
     ]
    }
   ],
   "source": [
    "print(str(1))\n",
    "print(str(1.0))\n",
    "print(str({1, 2, 3}))"
   ]
  }
 ],
 "metadata": {
  "kernelspec": {
   "display_name": "pystudy_env",
   "language": "python",
   "name": "pystudy_env"
  },
  "language_info": {
   "codemirror_mode": {
    "name": "ipython",
    "version": 3
   },
   "file_extension": ".py",
   "mimetype": "text/x-python",
   "name": "python",
   "nbconvert_exporter": "python",
   "pygments_lexer": "ipython3",
   "version": "3.12.3"
  }
 },
 "nbformat": 4,
 "nbformat_minor": 2
}

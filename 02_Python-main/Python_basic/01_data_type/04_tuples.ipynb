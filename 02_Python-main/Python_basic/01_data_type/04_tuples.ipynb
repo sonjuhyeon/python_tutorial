{
 "cells": [
  {
   "cell_type": "markdown",
   "metadata": {},
   "source": [
    "# 04. Tuples"
   ]
  },
  {
   "cell_type": "markdown",
   "metadata": {},
   "source": [
    "---"
   ]
  },
  {
   "cell_type": "markdown",
   "metadata": {},
   "source": [
    "## 04-01. Sequence Type"
   ]
  },
  {
   "cell_type": "markdown",
   "metadata": {},
   "source": [
    "### 04-01-01. Sequence Type 이란"
   ]
  },
  {
   "cell_type": "markdown",
   "metadata": {},
   "source": [
    "* 값이 연속적으로 나열된 자료형을 의미하며 다음 자료형이 Sequence Type에 해당한다.\n",
    "    * str : 문자열 값을 가지는 자료형\n",
    "    * list : 여러 값을 담을 수 있는 가변형 자료형\n",
    "    * tuple : 여러 값을 담을 수 있는 불변형 자료형"
   ]
  },
  {
   "cell_type": "code",
   "execution_count": 50,
   "metadata": {},
   "outputs": [
    {
     "name": "stdout",
     "output_type": "stream",
     "text": [
      "<class 'str'>\n",
      "<class 'list'>\n",
      "<class 'tuple'>\n"
     ]
    }
   ],
   "source": [
    "# str\n",
    "name = \"ohgiraffers\"\n",
    "print(type(name))\n",
    "\n",
    "# list\n",
    "list = [0, 1, 2, 3]\n",
    "print(type(list))\n",
    "\n",
    "# tuple\n",
    "tuple = (1, 2, 3)\n",
    "print(type(tuple))"
   ]
  },
  {
   "cell_type": "markdown",
   "metadata": {},
   "source": [
    "---"
   ]
  },
  {
   "cell_type": "markdown",
   "metadata": {},
   "source": [
    "## 04-02. Tuples"
   ]
  },
  {
   "cell_type": "markdown",
   "metadata": {},
   "source": [
    "### 04-02-01. tuple 이란"
   ]
  },
  {
   "cell_type": "markdown",
   "metadata": {},
   "source": [
    "* pythons에서 사용하는 자료형 중 하나로, 여러 개의 값을 하나의 데이터 구조로 묶어서 관리할 수 있는 불변(immutable) 시퀀스이다.\n",
    "* list와 유사하지만, 한번 생성되면 각 요소 값을 생성하거나 수정, 삭제할 수 없다.\n",
    "* 주로 데이터의 집합을 안전하게 유지하거나, 함수에서 여러 값을 반환할 때 사용된다."
   ]
  },
  {
   "cell_type": "markdown",
   "metadata": {},
   "source": [
    "### 04-02-02. tuple 표현식"
   ]
  },
  {
   "cell_type": "markdown",
   "metadata": {},
   "source": [
    "* list는 중괄호[]로 묶는 반면, 튜플은 ()로 묶어준다."
   ]
  },
  {
   "cell_type": "code",
   "execution_count": 51,
   "metadata": {},
   "outputs": [
    {
     "name": "stdout",
     "output_type": "stream",
     "text": [
      "('Bear', 'Koara', 'Gorilla', 'Squirrel')\n"
     ]
    }
   ],
   "source": [
    "safari_tuple = (\"Bear\", \"Koara\", \"Gorilla\", \"Squirrel\")\n",
    "print(safari_tuple)"
   ]
  },
  {
   "cell_type": "markdown",
   "metadata": {},
   "source": [
    "* 튜플의 요소는 소괄호()를 중첩으로 감싸 표현할 수 있다.\n",
    "* 튜플의 요소는 list처럼 인덱스로 선택해 접근할 수 있다."
   ]
  },
  {
   "cell_type": "code",
   "execution_count": 52,
   "metadata": {},
   "outputs": [
    {
     "name": "stdout",
     "output_type": "stream",
     "text": [
      "((1, 2, 'hello'), ('test', 1, 2, 3, 4))\n",
      "(1, 2, 'hello')\n",
      "1\n"
     ]
    }
   ],
   "source": [
    "tuples = (1, 2, 'hello'), ('test', 1,2,3,4)\n",
    "print(tuples)\n",
    "\n",
    "# tuples의 첫 번째 요소 선택\n",
    "print(tuples[0])\n",
    "\n",
    "# tuples의 첫 번째 요소 중 첫 번째 값 선택\n",
    "print(tuples[0][0])"
   ]
  },
  {
   "cell_type": "markdown",
   "metadata": {},
   "source": [
    "### 04-02-03. tuple 연산"
   ]
  },
  {
   "cell_type": "markdown",
   "metadata": {},
   "source": [
    "* 튜플은 불변 객체이므로 요소 값을 한번 할당하면 추가, 수정, 삭제가 불가하다."
   ]
  },
  {
   "cell_type": "code",
   "execution_count": 53,
   "metadata": {},
   "outputs": [
    {
     "name": "stdout",
     "output_type": "stream",
     "text": [
      "((1, 2, 'hello'), ('test', 1, 2, 3, 4))\n"
     ]
    }
   ],
   "source": [
    "# tuples[0] = (1,2,3,4)  # Error\n",
    "print(tuples)"
   ]
  },
  {
   "cell_type": "markdown",
   "metadata": {},
   "source": [
    "* 이때 값을 재할당하면 값이 다시 입력될 수도 있는데, 이는 기존의 변수에 값이 재할당 되는 것이 아닌 새로운 변수가 생성되는 것이다."
   ]
  },
  {
   "cell_type": "code",
   "execution_count": 54,
   "metadata": {},
   "outputs": [
    {
     "name": "stdout",
     "output_type": "stream",
     "text": [
      "1533376698688\n",
      "1533376523392\n"
     ]
    }
   ],
   "source": [
    "testList  = (1,2,3,4)\n",
    "print(id(testList)) # 개체의 주소값을 확인할 수 있다.\n",
    "\n",
    "testList = (3,4,5)\n",
    "print(id(testList))"
   ]
  },
  {
   "cell_type": "markdown",
   "metadata": {},
   "source": [
    "* 튜플 요소의 변경이 아닌 튜플 간 연산은 가능하다."
   ]
  },
  {
   "cell_type": "code",
   "execution_count": 55,
   "metadata": {},
   "outputs": [
    {
     "name": "stdout",
     "output_type": "stream",
     "text": [
      "('Bear', 'Koara', 'Gorilla', 'Squirrel', 'Monkey', 'Tiger', 'Wolf')\n",
      "('Bear', 'Koara', 'Gorilla', 'Squirrel', 'Bear', 'Koara', 'Gorilla', 'Squirrel', 'Bear', 'Koara', 'Gorilla', 'Squirrel')\n",
      "7\n"
     ]
    }
   ],
   "source": [
    "# 튜플 합하기\n",
    "another_safari_tuple = (\"Monkey\", \"Tiger\", \"Wolf\")\n",
    "print(safari_tuple + another_safari_tuple)\n",
    "\n",
    "# 튜플 곱하기\n",
    "print(safari_tuple * 3)\n",
    "\n",
    "# 튜플 길이 구하기\n",
    "print(len(safari_tuple + another_safari_tuple))"
   ]
  }
 ],
 "metadata": {
  "kernelspec": {
   "display_name": "pystudy_env",
   "language": "python",
   "name": "pystudy_env"
  },
  "language_info": {
   "codemirror_mode": {
    "name": "ipython",
    "version": 3
   },
   "file_extension": ".py",
   "mimetype": "text/x-python",
   "name": "python",
   "nbconvert_exporter": "python",
   "pygments_lexer": "ipython3",
   "version": "3.12.3"
  }
 },
 "nbformat": 4,
 "nbformat_minor": 2
}

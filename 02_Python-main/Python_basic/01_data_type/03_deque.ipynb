{
 "cells": [
  {
   "cell_type": "markdown",
   "metadata": {},
   "source": [
    "# 03. deque"
   ]
  },
  {
   "cell_type": "markdown",
   "metadata": {},
   "source": [
    "---"
   ]
  },
  {
   "cell_type": "markdown",
   "metadata": {},
   "source": [
    "## 03-01. deque (dobule-ended queue, 양방향 큐)"
   ]
  },
  {
   "cell_type": "markdown",
   "metadata": {},
   "source": [
    "### 03-01-01. deque 란"
   ]
  },
  {
   "cell_type": "markdown",
   "metadata": {},
   "source": [
    "* 파이썬의 collections 모듈에서 제공하는 자료구조로, 양쪽 끝에서 효율적인 삽입과 삭제가 가능하게 설계되었다.\n",
    "* deque는 stack과 queue의 기능을 모두 지원하며, 특정한 상황에서는 list 보다 더욱 효율적으로 사용할 수 있다."
   ]
  },
  {
   "cell_type": "code",
   "execution_count": 5,
   "metadata": {},
   "outputs": [
    {
     "name": "stdout",
     "output_type": "stream",
     "text": [
      "deque(['a', 'b', 'c'])\n"
     ]
    }
   ],
   "source": [
    "from collections import deque\n",
    "\n",
    "dq = deque()\n",
    "\n",
    "dq.append(\"a\")\n",
    "dq.append(\"b\")\n",
    "dq.append(\"c\")\n",
    "\n",
    "print(dq)"
   ]
  },
  {
   "cell_type": "markdown",
   "metadata": {},
   "source": [
    "### 03-01-02. deque의 메서드"
   ]
  },
  {
   "cell_type": "markdown",
   "metadata": {},
   "source": [
    "* append(), pop(): list에서의 append(), pop()과 동일\n",
    "* appendleft() : 왼쪽 끝에 요소 추가\n",
    "* popleft() : 왼쪽 끝 요소 값 반환하며 제거"
   ]
  },
  {
   "cell_type": "code",
   "execution_count": 6,
   "metadata": {},
   "outputs": [
    {
     "name": "stdout",
     "output_type": "stream",
     "text": [
      "deque(['x', 'a', 'b', 'c'])\n",
      "c\n",
      "x\n",
      "deque(['a', 'b'])\n"
     ]
    }
   ],
   "source": [
    "dq.appendleft('x')\n",
    "print(dq)\n",
    "\n",
    "value = dq.pop()\n",
    "print(value)\n",
    "\n",
    "left_value = dq.popleft()\n",
    "print(left_value)\n",
    "\n",
    "print(dq)"
   ]
  }
 ],
 "metadata": {
  "kernelspec": {
   "display_name": "pystudy_env",
   "language": "python",
   "name": "pystudy_env"
  },
  "language_info": {
   "codemirror_mode": {
    "name": "ipython",
    "version": 3
   },
   "file_extension": ".py",
   "mimetype": "text/x-python",
   "name": "python",
   "nbconvert_exporter": "python",
   "pygments_lexer": "ipython3",
   "version": "3.12.3"
  }
 },
 "nbformat": 4,
 "nbformat_minor": 2
}

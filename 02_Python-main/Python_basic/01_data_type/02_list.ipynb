{
 "cells": [
  {
   "cell_type": "markdown",
   "metadata": {},
   "source": [
    "# 02. List"
   ]
  },
  {
   "cell_type": "markdown",
   "metadata": {},
   "source": [
    "---"
   ]
  },
  {
   "cell_type": "markdown",
   "metadata": {},
   "source": [
    "## 02-01. List 개요"
   ]
  },
  {
   "cell_type": "markdown",
   "metadata": {},
   "source": [
    "### 02-01-01. List란"
   ]
  },
  {
   "cell_type": "markdown",
   "metadata": {},
   "source": [
    "* 일련의 값이 모인 집합을 다루기 위한 자료형으로 python은 배열과 같은 표현식을 갖지만, 일반적인 프로그래밍 언어와 다르게 길이를 동적으로 조절할 수 있어 list라고 부른다."
   ]
  },
  {
   "cell_type": "markdown",
   "metadata": {},
   "source": [
    "### 02-01-02. 표현식"
   ]
  },
  {
   "cell_type": "markdown",
   "metadata": {},
   "source": [
    "```\n",
    "리스트명 = ['값', '값', ... ]\n",
    "```"
   ]
  },
  {
   "cell_type": "markdown",
   "metadata": {},
   "source": [
    "* List의 각 요소는 0부터 시작하는 인덱스 체계로 구분해서 저장된다."
   ]
  },
  {
   "cell_type": "code",
   "execution_count": 82,
   "metadata": {},
   "outputs": [
    {
     "name": "stdout",
     "output_type": "stream",
     "text": [
      "['orange', 'apple', 'pear', 'banana', 'kiwi', 'apple']\n",
      "orange\n"
     ]
    }
   ],
   "source": [
    "fruits = ['orange', 'apple','pear','banana','kiwi', 'apple']\n",
    "\n",
    "print(fruits)\n",
    "print(fruits[0])"
   ]
  },
  {
   "cell_type": "markdown",
   "metadata": {},
   "source": [
    "## 02-02. List의 유용한 메서드"
   ]
  },
  {
   "cell_type": "markdown",
   "metadata": {},
   "source": [
    "### 02-02-01. count()"
   ]
  },
  {
   "cell_type": "markdown",
   "metadata": {},
   "source": [
    "* count(값)은 해당 리스트에 인자로 준 값이 몇 개 존재하는지 확인하여 그 수를 반환한다."
   ]
  },
  {
   "cell_type": "code",
   "execution_count": 83,
   "metadata": {},
   "outputs": [
    {
     "name": "stdout",
     "output_type": "stream",
     "text": [
      "apple:  2\n"
     ]
    }
   ],
   "source": [
    "print(\"apple: \", fruits.count('apple'))"
   ]
  },
  {
   "cell_type": "markdown",
   "metadata": {},
   "source": [
    "* 만약 해당 값이 존재하지 않는다면 0이 반환된다."
   ]
  },
  {
   "cell_type": "code",
   "execution_count": 84,
   "metadata": {},
   "outputs": [
    {
     "name": "stdout",
     "output_type": "stream",
     "text": [
      "test:  0\n"
     ]
    }
   ],
   "source": [
    "print(\"test: \", fruits.count(\"test\"))"
   ]
  },
  {
   "cell_type": "markdown",
   "metadata": {},
   "source": [
    "### 02-02-02. index()"
   ]
  },
  {
   "cell_type": "markdown",
   "metadata": {},
   "source": [
    "* index(값)은 리스트에서 인자로 준 값이 몇 번째 인덱스에 존재하는지 확인하여 그 인덱스를 반환한다.\n",
    "* 같은 값이 리스트 내에 여러 개 존재하면 가장 처음에 등장하는 값의 인덱스를 반환한다."
   ]
  },
  {
   "cell_type": "code",
   "execution_count": 85,
   "metadata": {},
   "outputs": [
    {
     "name": "stdout",
     "output_type": "stream",
     "text": [
      "index : 1\n"
     ]
    }
   ],
   "source": [
    "print(\"index :\", fruits.index(\"apple\"))"
   ]
  },
  {
   "cell_type": "markdown",
   "metadata": {},
   "source": [
    "* 만약 값이 존재하지 않는다면 에러가 발생한다."
   ]
  },
  {
   "cell_type": "code",
   "execution_count": 86,
   "metadata": {},
   "outputs": [],
   "source": [
    "# print(\"index :\", fruits.index(\"apple1\"))  #error"
   ]
  },
  {
   "cell_type": "markdown",
   "metadata": {},
   "source": [
    "* *index(값, 인덱스)와 같이 매개변수를 2개 전달할 수 있다.\n",
    "    * 첫 번째 매개변수 '값': 인덱스를 찾을 대상 값\n",
    "    * 두 번재 매개변수 '인덱스': 첫 번째 매개변수로 준 값을 두 번째 매개변수로 준 인덱스 이후 위치에서 탐색"
   ]
  },
  {
   "cell_type": "code",
   "execution_count": 87,
   "metadata": {},
   "outputs": [
    {
     "name": "stdout",
     "output_type": "stream",
     "text": [
      "index : 5\n"
     ]
    }
   ],
   "source": [
    "print(\"index :\", fruits.index(\"apple\", 3))"
   ]
  },
  {
   "cell_type": "markdown",
   "metadata": {},
   "source": [
    "### 02-02-03. reverse()"
   ]
  },
  {
   "cell_type": "markdown",
   "metadata": {},
   "source": [
    "- reverse()는 list의 값을 역으로 정렬한다."
   ]
  },
  {
   "cell_type": "code",
   "execution_count": 88,
   "metadata": {},
   "outputs": [
    {
     "name": "stdout",
     "output_type": "stream",
     "text": [
      "['apple', 'kiwi', 'banana', 'pear', 'apple', 'orange']\n"
     ]
    }
   ],
   "source": [
    "fruits.reverse()\n",
    "print(fruits)"
   ]
  },
  {
   "cell_type": "markdown",
   "metadata": {},
   "source": [
    "### 02-02-04. append()"
   ]
  },
  {
   "cell_type": "markdown",
   "metadata": {},
   "source": [
    "* append(값)은 list에 값을 덧붙여 추가한다."
   ]
  },
  {
   "cell_type": "code",
   "execution_count": 89,
   "metadata": {},
   "outputs": [
    {
     "name": "stdout",
     "output_type": "stream",
     "text": [
      "['apple', 'kiwi', 'banana', 'pear', 'apple', 'orange', 'pineapple']\n"
     ]
    }
   ],
   "source": [
    "fruits.append(\"pineapple\")\n",
    "print(fruits)"
   ]
  },
  {
   "cell_type": "markdown",
   "metadata": {},
   "source": [
    "### 02-02-05. sort()"
   ]
  },
  {
   "cell_type": "markdown",
   "metadata": {},
   "source": [
    "* 요소를 정렬하는 메서드로 원본 list에 영향을 준다.\n",
    "* 기본적으로 알파벳의 첫 글자를 기준으로 오름차순 정렬한다.\n",
    "* 매개변수로 다양한 옵션을 주어 다른 기준으로 정렬할 수 있다."
   ]
  },
  {
   "cell_type": "code",
   "execution_count": 90,
   "metadata": {},
   "outputs": [
    {
     "name": "stdout",
     "output_type": "stream",
     "text": [
      "['apple', 'apple', 'banana', 'kiwi', 'orange', 'pear', 'pineapple']\n",
      "['pineapple', 'pear', 'orange', 'kiwi', 'banana', 'apple', 'apple']\n",
      "['pear', 'kiwi', 'apple', 'apple', 'orange', 'banana', 'pineapple']\n",
      "['kiwi', 'pear', 'apple', 'apple', 'banana', 'orange', 'pineapple']\n"
     ]
    }
   ],
   "source": [
    "# 기본정렬\n",
    "fruits.sort()\n",
    "print(fruits)\n",
    "\n",
    "# 내림차순 정렬\n",
    "fruits.sort(reverse=True)\n",
    "print(fruits)\n",
    "\n",
    "# 문자열 길이가 짧은 순으로 정렬\n",
    "fruits.sort(key=len)\n",
    "print(fruits)\n",
    "\n",
    "# 복합 기준 정렬\n",
    "# 문자열 길이와 알파벳 순으로 복합 기준 정렬\n",
    "fruits.sort(key=lambda x:(len(x),x))\n",
    "print(fruits)"
   ]
  },
  {
   "cell_type": "markdown",
   "metadata": {},
   "source": [
    "---"
   ]
  },
  {
   "cell_type": "markdown",
   "metadata": {},
   "source": [
    "## 02-02. List를 이용한 자료구조"
   ]
  },
  {
   "cell_type": "markdown",
   "metadata": {},
   "source": [
    "### 02-02-01. Stack"
   ]
  },
  {
   "cell_type": "markdown",
   "metadata": {},
   "source": [
    "* stack 자료구조는 FILO(first-in last-out)의 특징을 가지므로, 자료를 쌓아올리므로 가장 처음에 쌓은 자료는 가장 마지막에 꺼낼 수 있다.\n",
    "    - 예) 접시 쌓기, 편의점 과자 진열대 등\n",
    "\n",
    "* 프로그래밍에서 Stack을 사용하는 가장 대표적인 예시는 함수 호출 스택이 있다.\n",
    "* A 함수가 B 함수를 호출하는 경우, B 함수가 종료되어야 A 함수가 다음 작업을 이어갈 수 있는 식이다.\n",
    "\n",
    "    |&nbsp;&nbsp;&nbsp;&nbsp;&nbsp;&nbsp;&nbsp;&nbsp;&nbsp;&nbsp;|&nbsp;&nbsp;&nbsp;&nbsp;&nbsp;&nbsp;&nbsp;&nbsp;&nbsp;&nbsp;|&nbsp;&nbsp;&nbsp;&nbsp;&nbsp;&nbsp;&nbsp;&nbsp;&nbsp;&nbsp;|&nbsp;&nbsp;&nbsp;&nbsp;&nbsp;&nbsp;&nbsp;&nbsp;&nbsp;&nbsp;|&nbsp;&nbsp;&nbsp;&nbsp;&nbsp;&nbsp;&nbsp;&nbsp;&nbsp;&nbsp;|&nbsp;&nbsp;&nbsp;&nbsp;&nbsp;&nbsp;&nbsp;&nbsp;&nbsp;&nbsp;|&nbsp;&nbsp;&nbsp;&nbsp;&nbsp;&nbsp;&nbsp;&nbsp;&nbsp;&nbsp;|<br>\n",
    "    |&nbsp;&nbsp;&nbsp;&nbsp;&nbsp;&nbsp;&nbsp;&nbsp;&nbsp;&nbsp;|&nbsp;&nbsp;&nbsp;&nbsp;&nbsp;&nbsp;&nbsp;&nbsp;&nbsp;&nbsp;|&nbsp;&nbsp;&nbsp;&nbsp;&nbsp;&nbsp;&nbsp;&nbsp;&nbsp;&nbsp;|&nbsp;&nbsp;&nbsp;&nbsp;&nbsp;&nbsp;&nbsp;&nbsp;&nbsp;&nbsp;|&nbsp;&nbsp;&nbsp;&nbsp;&nbsp;&nbsp;&nbsp;&nbsp;&nbsp;&nbsp;|&nbsp;&nbsp;&nbsp;&nbsp;&nbsp;&nbsp;&nbsp;&nbsp;&nbsp;&nbsp;|&nbsp;&nbsp;&nbsp;&nbsp;&nbsp;&nbsp;&nbsp;&nbsp;&nbsp;&nbsp;|<br>\n",
    "    |&nbsp;&nbsp;&nbsp;&nbsp;&nbsp;&nbsp;&nbsp;&nbsp;&nbsp;&nbsp;|&nbsp;&nbsp;&nbsp;->&nbsp;&nbsp;&nbsp;|&nbsp;&nbsp;&nbsp;&nbsp;B&nbsp;&nbsp;&nbsp;&nbsp;|&nbsp;&nbsp;&nbsp;->&nbsp;&nbsp;&nbsp;|&nbsp;&nbsp;&nbsp;&nbsp;&nbsp;&nbsp;&nbsp;&nbsp;&nbsp;&nbsp;|&nbsp;&nbsp;&nbsp;->&nbsp;&nbsp;&nbsp;|&nbsp;&nbsp;&nbsp;&nbsp;&nbsp;&nbsp;&nbsp;&nbsp;&nbsp;&nbsp;|<br>\n",
    "    |&nbsp;&nbsp;&nbsp; A&nbsp;&nbsp;&nbsp;&nbsp;|&nbsp;&nbsp;&nbsp;&nbsp;&nbsp;&nbsp;&nbsp;&nbsp;&nbsp;&nbsp;|&nbsp;&nbsp;&nbsp;&nbsp;A&nbsp;&nbsp;&nbsp;&nbsp;|&nbsp;&nbsp;&nbsp;&nbsp;&nbsp;&nbsp;&nbsp;&nbsp;&nbsp;|&nbsp;&nbsp;&nbsp;&nbsp;A&nbsp;&nbsp;&nbsp;&nbsp;|&nbsp;&nbsp;&nbsp;&nbsp;&nbsp;&nbsp;&nbsp;&nbsp;&nbsp;&nbsp;|&nbsp;&nbsp;&nbsp;&nbsp;&nbsp;&nbsp;&nbsp;&nbsp;&nbsp;&nbsp;|<br>\n",
    "    --------&nbsp;&nbsp;&nbsp;&nbsp;&nbsp;&nbsp;&nbsp;&nbsp;&nbsp;&nbsp;--------&nbsp;&nbsp;&nbsp;&nbsp;&nbsp;&nbsp;&nbsp;&nbsp;&nbsp;&nbsp;--------&nbsp;&nbsp;&nbsp;&nbsp;&nbsp;&nbsp;&nbsp;&nbsp;&nbsp;&nbsp;--------<br>"
   ]
  },
  {
   "cell_type": "code",
   "execution_count": 91,
   "metadata": {},
   "outputs": [
    {
     "name": "stdout",
     "output_type": "stream",
     "text": [
      "['plate1', 'plate2', 'plate3', 'plates4']\n"
     ]
    }
   ],
   "source": [
    "plates = ['plate1', 'plate2']\n",
    "\n",
    "plates.append('plate3')\n",
    "plates.append('plates4')\n",
    "\n",
    "print(plates)"
   ]
  },
  {
   "cell_type": "markdown",
   "metadata": {},
   "source": [
    "* pop() : 원본 배열의 값을 뒤에서부터 꺼내 반환하며, 꺼낸 값은 list에서 제거한다."
   ]
  },
  {
   "cell_type": "code",
   "execution_count": 92,
   "metadata": {},
   "outputs": [
    {
     "name": "stdout",
     "output_type": "stream",
     "text": [
      "plates4\n",
      "['plate1', 'plate2', 'plate3']\n",
      "plate3\n",
      "plate2\n",
      "['plate1']\n"
     ]
    }
   ],
   "source": [
    "print(plates.pop())\n",
    "print(plates)\n",
    "\n",
    "print(plates.pop())\n",
    "print(plates.pop())\n",
    "print(plates)"
   ]
  },
  {
   "cell_type": "markdown",
   "metadata": {},
   "source": [
    "---"
   ]
  },
  {
   "cell_type": "markdown",
   "metadata": {},
   "source": [
    "## 02-03. del"
   ]
  },
  {
   "cell_type": "markdown",
   "metadata": {},
   "source": [
    "### 02-03-01. del 키워드"
   ]
  },
  {
   "cell_type": "markdown",
   "metadata": {},
   "source": [
    "* del 키워드를 통해 원본 배열의 일부 요소 또는 전체 목록을 제거할 수 있다."
   ]
  },
  {
   "cell_type": "code",
   "execution_count": 93,
   "metadata": {},
   "outputs": [
    {
     "name": "stdout",
     "output_type": "stream",
     "text": [
      "['A', 'B', 'C', 'D', 'E', 'F']\n",
      "['B', 'C', 'D', 'E', 'F']\n",
      "['B', 'E', 'F']\n",
      "[]\n"
     ]
    }
   ],
   "source": [
    "abclist = ['A','B','C','D','E','F']\n",
    "print(abclist)\n",
    "\n",
    "del abclist[0]  # 0번째 인덱스의 요소 제거\n",
    "print(abclist)\n",
    "\n",
    "del abclist[1:3]  # 1번째 인덱스에서 3번째까지 제거\n",
    "print(abclist)\n",
    "\n",
    "del abclist[:]  # 모든 요소 제거\n",
    "print(abclist)\n",
    "\n",
    "del abclist  # abclist를 제거\n",
    "# print(abclist)  # list 자체를 제거했으므로 Error 발생"
   ]
  }
 ],
 "metadata": {
  "kernelspec": {
   "display_name": "pystudy_env",
   "language": "python",
   "name": "pystudy_env"
  },
  "language_info": {
   "codemirror_mode": {
    "name": "ipython",
    "version": 3
   },
   "file_extension": ".py",
   "mimetype": "text/x-python",
   "name": "python",
   "nbconvert_exporter": "python",
   "pygments_lexer": "ipython3",
   "version": "3.12.3"
  }
 },
 "nbformat": 4,
 "nbformat_minor": 2
}

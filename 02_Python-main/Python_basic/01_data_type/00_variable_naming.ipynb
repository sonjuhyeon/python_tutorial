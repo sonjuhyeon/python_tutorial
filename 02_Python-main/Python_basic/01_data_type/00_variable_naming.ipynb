{
 "cells": [
  {
   "cell_type": "markdown",
   "metadata": {},
   "source": [
    "# 00. 변수명 작성 규칙"
   ]
  },
  {
   "cell_type": "markdown",
   "metadata": {},
   "source": [
    "---"
   ]
  },
  {
   "cell_type": "markdown",
   "metadata": {},
   "source": [
    "1. 변수명은 스네이크 케이스로 작성하며, 대소문자를 구별한다."
   ]
  },
  {
   "cell_type": "code",
   "execution_count": 1,
   "metadata": {},
   "outputs": [
    {
     "name": "stdout",
     "output_type": "stream",
     "text": [
      "오지라퍼스\n",
      "Ohgiraffers\n"
     ]
    }
   ],
   "source": [
    "team_name = \"오지라퍼스\"\n",
    "Team_name = \"Ohgiraffers\"\n",
    "\n",
    "print(team_name)\n",
    "print(Team_name)"
   ]
  },
  {
   "cell_type": "markdown",
   "metadata": {},
   "source": [
    "2. 영문과 숫자를 혼합해 작성할 수 있다. (단, 숫자를 가장 앞에 작성할 수 없음)"
   ]
  },
  {
   "cell_type": "code",
   "execution_count": 2,
   "metadata": {},
   "outputs": [],
   "source": [
    "team_1_name = \"오지라퍼스\"\n",
    "# 1_team_name = \"오지라퍼스\""
   ]
  },
  {
   "cell_type": "markdown",
   "metadata": {},
   "source": [
    "3. 한글 변수명을 지정할 수 있다."
   ]
  },
  {
   "cell_type": "code",
   "execution_count": 3,
   "metadata": {},
   "outputs": [],
   "source": [
    "팀명 = \"오지라퍼스\""
   ]
  },
  {
   "cell_type": "markdown",
   "metadata": {},
   "source": [
    "4. 언더바(_)를 제외한 특수문자는 사용 불가하다."
   ]
  },
  {
   "cell_type": "code",
   "execution_count": 4,
   "metadata": {},
   "outputs": [],
   "source": [
    "# team_@_name = \"오지라퍼스\""
   ]
  },
  {
   "cell_type": "markdown",
   "metadata": {},
   "source": [
    "5. 파이썬 예약어를 사용할 수 없다."
   ]
  },
  {
   "cell_type": "code",
   "execution_count": 5,
   "metadata": {},
   "outputs": [],
   "source": [
    "# else = \"오지라퍼스\";"
   ]
  },
  {
   "cell_type": "markdown",
   "metadata": {},
   "source": [
    "---"
   ]
  },
  {
   "cell_type": "markdown",
   "metadata": {},
   "source": [
    "### [참고] 파이썬에서의 언더스코어 (_)"
   ]
  },
  {
   "cell_type": "markdown",
   "metadata": {},
   "source": [
    "- 파이썬에서 언더스코어의 사용은 다음 네 가지와 같은 특별한 기능을 제공한다."
   ]
  },
  {
   "cell_type": "markdown",
   "metadata": {},
   "source": [
    "1. 인터프리터(Interpreter)에서 마지막(으로 실행된) 값 저장 시, _(언더스코어)라는 변수로 저장된다."
   ]
  },
  {
   "cell_type": "code",
   "execution_count": 6,
   "metadata": {},
   "outputs": [
    {
     "data": {
      "text/plain": [
       "10"
      ]
     },
     "execution_count": 6,
     "metadata": {},
     "output_type": "execute_result"
    }
   ],
   "source": [
    "10"
   ]
  },
  {
   "cell_type": "code",
   "execution_count": 7,
   "metadata": {},
   "outputs": [
    {
     "data": {
      "text/plain": [
       "10"
      ]
     },
     "execution_count": 7,
     "metadata": {},
     "output_type": "execute_result"
    }
   ],
   "source": [
    "_"
   ]
  },
  {
   "cell_type": "code",
   "execution_count": 8,
   "metadata": {},
   "outputs": [
    {
     "data": {
      "text/plain": [
       "30"
      ]
     },
     "execution_count": 8,
     "metadata": {},
     "output_type": "execute_result"
    }
   ],
   "source": [
    "# 마지막에 사용한 값으로 연산도 가능\n",
    "\n",
    "_ * 3"
   ]
  },
  {
   "cell_type": "markdown",
   "metadata": {},
   "source": [
    "2. 값을 무시하고 싶은 경우, 특정 값을 무시하기 위한 용도로 사용할 수 있다."
   ]
  },
  {
   "cell_type": "code",
   "execution_count": 9,
   "metadata": {},
   "outputs": [
    {
     "name": "stdout",
     "output_type": "stream",
     "text": [
      "1\n",
      "3\n",
      "1\n",
      "5\n"
     ]
    }
   ],
   "source": [
    "# 특정 값을 무시\n",
    "x, _, z = (1,2,3)    # x = 1, z = 3\n",
    "print(x)\n",
    "print(z)\n",
    "\n",
    "\n",
    "# 여러 개의 값 무시\n",
    "x, *_, y = (1, 2, 3, 4, 5)    # x = 1, y = 5\n",
    "print(x)\n",
    "print(y)"
   ]
  },
  {
   "cell_type": "markdown",
   "metadata": {},
   "source": [
    "3. 변수나 함수명에 특별한 의미 또는 기능을 부여하고자 할 때 사용할 수 있다.\n",
    "    - 변수, 함수, 클래스, 메소드를 선언할 때 _로 시작하는 것들은 임포트에서 무시된다.\n",
    "    - 파이썬은 private를 지원하지 않고 있지만, 위와 같이 사용함으로써 private 선언 컨벤션으로 쓸 수 있다.<br>\n",
    "        (임포트에서는 무시되지만 직접 가져다 쓰는 등 호출은 가능)"
   ]
  },
  {
   "cell_type": "code",
   "execution_count": 10,
   "metadata": {},
   "outputs": [],
   "source": [
    "_internal_name = 'one_module'  # private 변수\n",
    "_internal_version = '1.0'      # private 변수"
   ]
  },
  {
   "cell_type": "markdown",
   "metadata": {},
   "source": [
    "4. 숫자 리터럴 값의 자릿수 구분을 위한 구분자로 사용할 수 있다.\n",
    "    - Python 3.6 에서 추가된 문법으로, 언더스코어를 이용해 자릿수를 구분할 수 있다."
   ]
  },
  {
   "cell_type": "code",
   "execution_count": 11,
   "metadata": {},
   "outputs": [
    {
     "data": {
      "text/plain": [
       "1000000"
      ]
     },
     "execution_count": 11,
     "metadata": {},
     "output_type": "execute_result"
    }
   ],
   "source": [
    "million = 1_000_000\n",
    "million"
   ]
  }
 ],
 "metadata": {
  "kernelspec": {
   "display_name": "pystudy_env",
   "language": "python",
   "name": "pystudy_env"
  },
  "language_info": {
   "codemirror_mode": {
    "name": "ipython",
    "version": 3
   },
   "file_extension": ".py",
   "mimetype": "text/x-python",
   "name": "python",
   "nbconvert_exporter": "python",
   "pygments_lexer": "ipython3",
   "version": "3.12.3"
  }
 },
 "nbformat": 4,
 "nbformat_minor": 2
}

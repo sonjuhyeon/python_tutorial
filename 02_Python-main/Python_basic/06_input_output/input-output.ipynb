{
 "cells": [
  {
   "cell_type": "markdown",
   "metadata": {},
   "source": [
    "## 입출력\n",
    "\n",
    "프로그램을 실행한 디렉터리에 새로운 파일이 하나 생성된 것을 확인할 수 있을 것이다. \n",
    "파일을 생성하기 위해 파이썬 내장 함수 open을 사용했다. \n",
    "open 함수는 다음과 같이 ‘파일 이름’과 ‘파일 열기 모드’를 입력값으로 받고 결괏값으로 파일 객체를 리턴한다."
   ]
  },
  {
   "cell_type": "markdown",
   "metadata": {},
   "source": [
    "### file open 종류\n",
    "\n",
    "- r = 읽기 모드  = 파일을 읽기만 할 때 사용한다.\n",
    "- w = 쓰기 모드  = 파일에 내용을 쓸 때 사용한다.\n",
    "- a = 추가 모드  = 파일의 마지막에 새로운 내용을 추가할 때 사용한다.\n",
    "\n",
    "- 파일을 쓰기 모드로 열면 해당 파일이 이미 존재할 경우 원래 있던 내용이 모두 사라지고 해당 파일이 존재하지 않으면 새로운 파일이 생성된다.\n",
    "- 만약 ‘newFile.txt’ 파일을 C:/dev 디렉터리에 생성하고 싶다면 다음과 같이 작성해야 한다."
   ]
  },
  {
   "cell_type": "markdown",
   "metadata": {},
   "source": [
    "\n",
    ".close()는 열려 있는 파일 객체를 닫아 주는 역할을 한다. 사실 이 문장은 생략해도 된다. \n",
    "프로그램을 종료할 때 파이썬 프로그램이 열려 있는 파일의 객체를 자동으로 닫아 주기 때문이다. \n",
    "하지만 close()를 사용해서 열려 있는 파일을 직접 닫아 주는 것이 좋다. 쓰기모드로 열었던 파일을 닫지 않고 다시 사용하려고 하면 오류가 발생하기 때문이다."
   ]
  },
  {
   "cell_type": "markdown",
   "metadata": {},
   "source": [
    "- frog_song.txt\n",
    "```\n",
    "    개구리 소년 빰~ 빠 바 개구리 소년 빰~ 빠 바\n",
    "\n",
    "    네가 울면 무지개 연못에 비가온단다.\n",
    "    비바람 몰아쳐도 이겨 내고\n",
    "    일곱번 넘어져도 일어나~라\n",
    "    울지말고 일어나~ 피리를 불어라\n",
    "\n",
    "    삘릴리 삘릴리리 삘릴리리\n",
    "    삘릴리 삘릴리리 삘릴리리\n",
    "\n",
    "    무~ 지개 연못에 웃음꽃핀다.\n",
    "```"
   ]
  },
  {
   "cell_type": "markdown",
   "metadata": {},
   "source": [
    "## 파일 작성하기\n"
   ]
  },
  {
   "cell_type": "code",
   "execution_count": 68,
   "metadata": {},
   "outputs": [
    {
     "data": {
      "text/plain": [
       "<IPython.core.autocall.ZMQExitAutocall at 0x1f3dc779280>"
      ]
     },
     "execution_count": 68,
     "metadata": {},
     "output_type": "execute_result"
    }
   ],
   "source": [
    "f = open('C:\\\\Users\\\\bear\\\\Desktop\\\\frog_song.txt', 'w')\n",
    "f.write('개구리 소년 빰~ 빠 바 개구리 소년 빰~ 빠 바\\n네가 울면 무지개 연못에 비가온단다.\\n비바람 몰아쳐도 이겨 내고\\n일곱번 넘어져도 일어나~라\\n울지말고 일어나~ 피리를 불어라\\n\\n삘릴리 삘릴리리 삘릴리리\\n삘릴리 삘릴리리 삘릴리리\\n\\n무~ 지개 연못에 웃음꽃핀다.\\n')\n",
    "#f.write('test')\n",
    "f.close()\n",
    "\n",
    "exit\n",
    "# 왜 이렇게 입력만했을때에는 파일에 아무것도 안남는데\n",
    "# 아래 코드 read까지 하면 파일에 보이는가?\n",
    "\n",
    "# f = open(\"C:\\\\Users\\\\bear\\\\Desktop\\\\frog_song.txt\", 'r')\n",
    "# # line = f.read()\n",
    "# # print(line)\n",
    "# f.close()"
   ]
  },
  {
   "cell_type": "markdown",
   "metadata": {},
   "source": [
    "### 파일을 읽는 여러 가지 방법\n",
    "\n",
    "1. readline 함수 사용하기\n",
    "2. readlines 함수 사용하기\n",
    "3. read 함수 사용하기\n",
    "4. for문과 함께 사용"
   ]
  },
  {
   "cell_type": "markdown",
   "metadata": {},
   "source": [
    "* readline 함수로 한줄만 읽기"
   ]
  },
  {
   "cell_type": "code",
   "execution_count": 54,
   "metadata": {},
   "outputs": [
    {
     "name": "stdout",
     "output_type": "stream",
     "text": [
      "개구리 소년 빰~ 빠 바 개구리 소년 빰~ 빠 바\n",
      "\n"
     ]
    }
   ],
   "source": [
    "f = open(\"C:\\\\Users\\\\bear\\\\Desktop\\\\frog_song.txt\", 'r')\n",
    "line = f.readline()\n",
    "print(line)\n",
    "f.close()"
   ]
  },
  {
   "cell_type": "markdown",
   "metadata": {},
   "source": [
    "* readline 함수와 while문으로 전체내용 읽기"
   ]
  },
  {
   "cell_type": "code",
   "execution_count": 16,
   "metadata": {},
   "outputs": [
    {
     "name": "stdout",
     "output_type": "stream",
     "text": [
      "개구리 소년 빰~ 빠 바 개구리 소년 빰~ 빠 바\n",
      "\n",
      "\n",
      "\n",
      "네가 울면 무지개 연못에 비가온단다.\n",
      "\n",
      "비바람 몰아쳐도 이겨 내고\n",
      "\n",
      "일곱번 넘어져도 일어나~라\n",
      "\n",
      "울지말고 일어나~ 피리를 불어라\n",
      "\n",
      "\n",
      "\n",
      "삘릴리 삘릴리리 삘릴리리\n",
      "\n",
      "삘릴리 삘릴리리 삘릴리리\n",
      "\n",
      "\n",
      "\n",
      "무~ 지개 연못에 웃음꽃핀다.\n"
     ]
    }
   ],
   "source": [
    "f = open(\"C:\\\\Users\\\\bear\\\\Desktop\\\\frog_song.txt\" ,'r')\n",
    "while True:\n",
    "  line = f.readline()\n",
    "  if not line:\n",
    "    break\n",
    "  print(line)\n",
    "f.close()"
   ]
  },
  {
   "cell_type": "markdown",
   "metadata": {},
   "source": [
    "* readlines 함수를 사용해 한 행씩 리스트로 받아와 for 문으로 출력하기"
   ]
  },
  {
   "cell_type": "code",
   "execution_count": 17,
   "metadata": {},
   "outputs": [
    {
     "name": "stdout",
     "output_type": "stream",
     "text": [
      "개구리 소년 빰~ 빠 바 개구리 소년 빰~ 빠 바\n",
      "\n",
      "\n",
      "\n",
      "네가 울면 무지개 연못에 비가온단다.\n",
      "\n",
      "비바람 몰아쳐도 이겨 내고\n",
      "\n",
      "일곱번 넘어져도 일어나~라\n",
      "\n",
      "울지말고 일어나~ 피리를 불어라\n",
      "\n",
      "\n",
      "\n",
      "삘릴리 삘릴리리 삘릴리리\n",
      "\n",
      "삘릴리 삘릴리리 삘릴리리\n",
      "\n",
      "\n",
      "\n",
      "무~ 지개 연못에 웃음꽃핀다.\n"
     ]
    }
   ],
   "source": [
    "f = open(\"C:\\\\Users\\\\bear\\\\Desktop\\\\frog_song.txt\", 'r')\n",
    "lines = f.readlines()\n",
    "for line in lines:\n",
    "    print(line)\n",
    "f.close()"
   ]
  },
  {
   "cell_type": "markdown",
   "metadata": {},
   "source": [
    "* read 함수를 사용해 전체 내용을 문자열로 받아와 출력"
   ]
  },
  {
   "cell_type": "code",
   "execution_count": 18,
   "metadata": {},
   "outputs": [
    {
     "name": "stdout",
     "output_type": "stream",
     "text": [
      "개구리 소년 빰~ 빠 바 개구리 소년 빰~ 빠 바\n",
      "\n",
      "네가 울면 무지개 연못에 비가온단다.\n",
      "비바람 몰아쳐도 이겨 내고\n",
      "일곱번 넘어져도 일어나~라\n",
      "울지말고 일어나~ 피리를 불어라\n",
      "\n",
      "삘릴리 삘릴리리 삘릴리리\n",
      "삘릴리 삘릴리리 삘릴리리\n",
      "\n",
      "무~ 지개 연못에 웃음꽃핀다.\n"
     ]
    }
   ],
   "source": [
    "f = open(\"C:\\\\Users\\\\bear\\\\Desktop\\\\frog_song.txt\", 'r')\n",
    "data = f.read()\n",
    "print(data)\n",
    "f.close()"
   ]
  },
  {
   "cell_type": "markdown",
   "metadata": {},
   "source": [
    "* for 문과 함께 사용해서 전체 출력하기"
   ]
  },
  {
   "cell_type": "code",
   "execution_count": 51,
   "metadata": {},
   "outputs": [
    {
     "name": "stdout",
     "output_type": "stream",
     "text": [
      "노래끝노래끝노래끝노래끝노래끝노래끝노래끝노래끝노래끝노래끝노래끝노래끝노래끝노래끝노래끝노래끝노래끝노래끝노래끝노래끝\n"
     ]
    }
   ],
   "source": [
    "f = open(\"C:\\\\Users\\\\bear\\\\Desktop\\\\frog_song.txt\", 'r')\n",
    "for line in f:\n",
    "    print(line)\n",
    "f.close()"
   ]
  },
  {
   "cell_type": "markdown",
   "metadata": {},
   "source": [
    "### 파일에 새로운 내용 추가하기\n",
    "\n",
    "쓰기 모드('w')로 파일을 열 때 이미 존재하는 파일을 열면 그 파일의 내용이 모두 사라지게 된다. \n",
    "하지만 원래 있던 값을 유지하면서 단지 새로운 값만 추가해야 할 경우도 있다. \n",
    "이런 경우에는 파일을 추가 모드('a')로 열면 된다. "
   ]
  },
  {
   "cell_type": "code",
   "execution_count": 61,
   "metadata": {},
   "outputs": [
    {
     "name": "stdout",
     "output_type": "stream",
     "text": [
      "개구리 소년 빰~ 빠 바 개구리 소년 빰~ 빠 바\n",
      "네가 울면 무지개 연못에 비가온단다.\n",
      "비바람 몰아쳐도 이겨 내고\n",
      "일곱번 넘어져도 일어나~라\n",
      "울지말고 일어나~ 피리를 불어라\n",
      "\n",
      "삘릴리 삘릴리리 삘릴리리\n",
      "삘릴리 삘릴리리 삘릴리리\n",
      "\n",
      "무~ 지개 연못에 웃음꽃핀다.\n",
      "노래끝\n"
     ]
    }
   ],
   "source": [
    "f = open(\"C:\\\\Users\\\\bear\\\\Desktop\\\\frog_song.txt\", 'a')\n",
    "f.write(\"노래끝\")\n",
    "f.close()\n",
    "\n",
    "f = open(\"C:\\\\Users\\\\bear\\\\Desktop\\\\frog_song.txt\", 'r')\n",
    "data = f.read()\n",
    "print(data)\n"
   ]
  },
  {
   "cell_type": "markdown",
   "metadata": {},
   "source": [
    "### with 문과 함께 사용하기\n",
    "\n",
    "* 파일을 열면(open) 항상 닫아(close) 주어야 한다. \n",
    "* 이렇게 파일을 열고 닫는 것을 자동으로 처리할 수 있다면 편리하지 않을까? \n",
    "* 파이썬의 with 문이 바로 이런 역할을 해 준다."
   ]
  },
  {
   "cell_type": "code",
   "execution_count": 11,
   "metadata": {},
   "outputs": [],
   "source": [
    "with open(\"newFile2.txt\", \"w\") as f:\n",
    "    f.write(\"Life is too short, you need python\")\n",
    "\n",
    "    #위와 같이 with 문을 사용하면 with 블록(with 문에 속해 있는 문장)을 벗어나는 순간, 열린 파일 객체 f가 자동으로 닫힌다."
   ]
  }
 ],
 "metadata": {
  "kernelspec": {
   "display_name": "exampleProject",
   "language": "python",
   "name": "python3"
  },
  "language_info": {
   "codemirror_mode": {
    "name": "ipython",
    "version": 3
   },
   "file_extension": ".py",
   "mimetype": "text/x-python",
   "name": "python",
   "nbconvert_exporter": "python",
   "pygments_lexer": "ipython3",
   "version": "3.12.3"
  }
 },
 "nbformat": 4,
 "nbformat_minor": 2
}

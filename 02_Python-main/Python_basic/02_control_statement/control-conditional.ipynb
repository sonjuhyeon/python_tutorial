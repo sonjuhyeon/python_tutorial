{
 "cells": [
  {
   "cell_type": "markdown",
   "metadata": {},
   "source": [
    "## if 문\n",
    "\n",
    "### if문 \n",
    "\n",
    "\n",
    " if 조건식 : \n",
    "    실행 내용\n",
    "\n",
    "\n",
    "- 조건식 : true or false가 나오는 연산식을 조건식이라고 한다.\n",
    "- if문은 조건식의 결과 값이 참(true)이면 if :하위에 있는 코드를 실행한다.\n"
   ]
  },
  {
   "cell_type": "code",
   "execution_count": 6,
   "metadata": {},
   "outputs": [
    {
     "name": "stdout",
     "output_type": "stream",
     "text": [
      "입력하신 5 는 양수입니다.\n"
     ]
    }
   ],
   "source": [
    "# if 문\n",
    "x = int(input(\"정수 하나를 입력 해주세요 : \"))\n",
    "\n",
    "if x > 0 :\n",
    "    print('입력하신 %d 는 양수입니다.' % x)"
   ]
  },
  {
   "cell_type": "markdown",
   "metadata": {},
   "source": [
    "### ifElse 문 \n",
    "\n",
    "- if문은 조건식의 결과 값이 참(true)이면 if :하위에 있는 코드를 실행하고,\n",
    "- 조건식의 결과 값이 거짓(false)이면  else: 하위에 있는 코드를 실행한다."
   ]
  },
  {
   "cell_type": "code",
   "execution_count": 7,
   "metadata": {},
   "outputs": [
    {
     "name": "stdout",
     "output_type": "stream",
     "text": [
      "입력하신 5 는 양수입니다.\n"
     ]
    }
   ],
   "source": [
    "# ifElse 문\n",
    "x = int(input(\"정수 하나를 입력 해주세요 : \"))\n",
    "if x > 0:\n",
    "    print('입력하신 %d 는 양수입니다.' % x)\n",
    "else:\n",
    "    print('입력하신 %d 는 음수입니다.' % x)"
   ]
  },
  {
   "cell_type": "markdown",
   "metadata": {},
   "source": [
    "### ifElseIf 문\n",
    "\n",
    "- elif 로 다른 조건식을 제시하여 여러 개의 조건 중 한 가지를 반드시 실행시키고 싶은 경우 사용한다."
   ]
  },
  {
   "cell_type": "code",
   "execution_count": 8,
   "metadata": {},
   "outputs": [
    {
     "name": "stdout",
     "output_type": "stream",
     "text": [
      "입력하신 5 는 양수입니다.\n"
     ]
    }
   ],
   "source": [
    "\n",
    "  # input = 사용자에게 입력 받은 값을 변수에 담아줌.\n",
    "  # 기본이 문자형 이기 때문에 int 로 형변환\n",
    "x = int(input(\"정수 하나를 입력 해주세요 : \"))\n",
    "\n",
    "if x == 0:\n",
    "    print('입력하신 숫자는 %d 입니다.' % x)\n",
    "elif x > 0:\n",
    "    print('입력하신 %d 는 양수입니다.' % x)\n",
    "else:\n",
    "    print('입력하신 %d 는 음수입니다.' % x)"
   ]
  },
  {
   "cell_type": "markdown",
   "metadata": {},
   "source": [
    "## match 문\n",
    "(자바의 swtich 문)\n",
    "- 주어진 값을 case 블록의 값과 비교해 일치하는 case만 실행\n",
    "- ifElseIf 보다 가독성이 높고 간결한 코드를 작성할 수 있다.\n",
    "\n",
    "### match 기본 문법\n",
    "match 변수 or 값 :\n",
    "    case 값:\n",
    "        실행문\n",
    "    case 값:\n",
    "        실행문\n",
    "    case _:  (다른 조건들을 모두 제외한 값)\n",
    "        실행문"
   ]
  },
  {
   "cell_type": "code",
   "execution_count": null,
   "metadata": {},
   "outputs": [
    {
     "name": "stdout",
     "output_type": "stream",
     "text": [
      "=== OhGiraffers vending machine ===\n",
      "  사이다(500)   콜라(600)   환타(700)   밀키스(1000) \n",
      "원하시는 음료를 입력 해주세요\n",
      "사이다를 선택하셨습니다.\n",
      "500원을 투입 해주세요\n"
     ]
    }
   ],
   "source": [
    "print(\"=== OhGiraffers vending machine ===\")\n",
    "print(\"  사이다(500)   콜라(600)   환타(700)   밀키스(1000) \")\n",
    "print(\"원하시는 음료를 입력 해주세요\")\n",
    "drink = input()\n",
    "price = 0\n",
    "match drink:\n",
    "    case \"사이다\":\n",
    "        print(\"사이다를 선택하셨습니다.\")\n",
    "        price = 500\n",
    "    case \"콜라\":\n",
    "        print(\"콜라를 선택하셨습니다.\")\n",
    "        price = 600\n",
    "    case \"환타\":\n",
    "        print(\"환타를 선택하셨습니다.\")\n",
    "        price = 700\n",
    "    case \"밀키스\" :  \n",
    "        print(\"밀키스를 선택하셨습니다.\")\n",
    "        price = 1000\n",
    "    case _:\n",
    "        print(\"저희가 제공하는 음료수가 아닙니다.\")\n",
    "\n",
    "print(str(price) + \"원을 투입 해주세요\")\n"
   ]
  }
 ],
 "metadata": {
  "kernelspec": {
   "display_name": "pystudy_env",
   "language": "python",
   "name": "pystudy_env"
  },
  "language_info": {
   "codemirror_mode": {
    "name": "ipython",
    "version": 3
   },
   "file_extension": ".py",
   "mimetype": "text/x-python",
   "name": "python",
   "nbconvert_exporter": "python",
   "pygments_lexer": "ipython3",
   "version": "3.12.3"
  }
 },
 "nbformat": 4,
 "nbformat_minor": 2
}

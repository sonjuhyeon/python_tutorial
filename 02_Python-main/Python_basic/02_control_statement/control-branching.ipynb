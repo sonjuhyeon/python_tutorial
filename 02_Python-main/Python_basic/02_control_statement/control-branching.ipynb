{
 "cells": [
  {
   "cell_type": "markdown",
   "metadata": {},
   "source": [
    "\n",
    "## branching\n",
    "\n",
    "### else 문\n",
    "\n",
    "- 반복문 안에 else 를 넣으면 모든 루프가 종료 된 후 else 안에 있는 내용이 실행된다.\n",
    "- break나 continue로 종료되면 실행되지 않는다."
   ]
  },
  {
   "cell_type": "code",
   "execution_count": 1,
   "metadata": {},
   "outputs": [
    {
     "name": "stdout",
     "output_type": "stream",
     "text": [
      "1\n",
      "2\n",
      "3\n",
      "끝\n"
     ]
    }
   ],
   "source": [
    "for x in [1, 2, 3]:\t\n",
    "    print(x)\n",
    "else:\t\n",
    "    print('끝')\n"
   ]
  },
  {
   "cell_type": "markdown",
   "metadata": {},
   "source": [
    "### continue 문\n",
    "\n",
    "- 반복문 안에서 continue 를 만나면 다음 실행문은 실행되지 않고 다음 반복으로 넘어간다.\n",
    "- 일반적으로 continue 는 반복문의 특정 순간을 생략하고 진행하기 위해 사용한다."
   ]
  },
  {
   "cell_type": "code",
   "execution_count": 2,
   "metadata": {},
   "outputs": [
    {
     "name": "stdout",
     "output_type": "stream",
     "text": [
      "0\n",
      "2\n"
     ]
    }
   ],
   "source": [
    "for i in range(3):\t\n",
    "    if i == 1:    \t\n",
    "        continue\t\n",
    "    print(i)\n"
   ]
  },
  {
   "cell_type": "markdown",
   "metadata": {},
   "source": [
    "### break 문\n",
    "\n",
    "- break 를 만나면 반복문이 종료된다.\n",
    "- 반복문이 break를 만나면 break 는 반복문의 남은 과정을 모두 취소한다."
   ]
  },
  {
   "cell_type": "code",
   "execution_count": 3,
   "metadata": {},
   "outputs": [
    {
     "name": "stdout",
     "output_type": "stream",
     "text": [
      "1\n",
      "끝\n"
     ]
    }
   ],
   "source": [
    "for x in [1, 2, 3]:\t\n",
    "    if x == 2:  \n",
    "        print(\"끝\")  \t\n",
    "        break\t\n",
    "    else:\t\n",
    "        print(x)\n"
   ]
  }
 ],
 "metadata": {
  "kernelspec": {
   "display_name": "pystudy_env",
   "language": "python",
   "name": "python3"
  },
  "language_info": {
   "codemirror_mode": {
    "name": "ipython",
    "version": 3
   },
   "file_extension": ".py",
   "mimetype": "text/x-python",
   "name": "python",
   "nbconvert_exporter": "python",
   "pygments_lexer": "ipython3",
   "version": "3.12.3"
  }
 },
 "nbformat": 4,
 "nbformat_minor": 2
}

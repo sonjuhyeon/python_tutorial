{
 "cells": [
  {
   "cell_type": "markdown",
   "metadata": {},
   "source": [
    "# 클래스 (Class)"
   ]
  },
  {
   "cell_type": "markdown",
   "metadata": {},
   "source": [
    "- 클래스는 객체 지향 프로그래밍(Object-Oriented Programming, OOP)를 지원하는 중요한 개념이다.\n",
    "- 추상화된 데이터와 함수(메서드)를 하나의 단위로 묶어 클래스를 만들 수 있고, 클래스를 사용해 인스턴스를 생성하여 객체 단위로 사용할 수 있다."
   ]
  },
  {
   "cell_type": "markdown",
   "metadata": {},
   "source": [
    "---"
   ]
  },
  {
   "cell_type": "markdown",
   "metadata": {},
   "source": [
    "## 클래스 정의 (Class Definition Syntax)"
   ]
  },
  {
   "cell_type": "markdown",
   "metadata": {},
   "source": [
    "- class 키워드와 콜론을 이용해 클래스를 정의한다.\n",
    "    ```\n",
    "    class ClassName:\n",
    "        <statement-1>\n",
    "        .\n",
    "        .\n",
    "        .\n",
    "        <statement-N>\n",
    "    ```"
   ]
  },
  {
   "cell_type": "code",
   "execution_count": 68,
   "metadata": {},
   "outputs": [],
   "source": [
    "class Person:\n",
    "    national = 'korea'\n",
    "    \n",
    "    def greeting(self):\n",
    "        return 'Hello. This is Python'"
   ]
  },
  {
   "cell_type": "markdown",
   "metadata": {},
   "source": [
    "---"
   ]
  },
  {
   "cell_type": "markdown",
   "metadata": {},
   "source": [
    "## 클래스 구조"
   ]
  },
  {
   "cell_type": "markdown",
   "metadata": {},
   "source": [
    "- 클래스 속성: 클래스 자체에 속하는 변수로, 모든 인스턴스가 공유하는 속성이다."
   ]
  },
  {
   "cell_type": "code",
   "execution_count": 69,
   "metadata": {},
   "outputs": [],
   "source": [
    "class Person:\n",
    "    national = 'korea'\n",
    "    language = 'korean'"
   ]
  },
  {
   "cell_type": "markdown",
   "metadata": {},
   "source": [
    "- 메서드: 클래스 내부에 정의된 함수로, 인스턴스의 데이터를 조작하거나 동작을 정의한다.\n",
    "    - self\n",
    "        - self는 필드 및 메소드를 접근하는 객체를 의미한다.\n",
    "        - 객체를 통해 접근 후 호출되는 메소드의 첫 번째 인자는 항상 self여야 한다.  \n",
    "        (메소드 호출 시 객체의 주소값이 첫 번째 인자로 넘어오기 때문이다.)"
   ]
  },
  {
   "cell_type": "code",
   "execution_count": 70,
   "metadata": {},
   "outputs": [],
   "source": [
    "class Person:    \n",
    "    national = 'korea'\n",
    "    language = 'korean'\n",
    "    \n",
    "    def greeting(self):\n",
    "        return 'Hello. This is Python'\n",
    "    \n",
    "    def information(self):\n",
    "        return \"I'm from \" + self.national + \" and I use \" + self.language\n",
    "    \n",
    "    def favorite(self, color):\n",
    "        return \"I love \" + color"
   ]
  },
  {
   "cell_type": "markdown",
   "metadata": {},
   "source": [
    "- 인스턴스 속성: 각 인스턴스마다 개별적으로 가지는 변수로, \\__init__ 메서드(= 생성자)에서 정의된다.\n",
    "- 생성자: \\__init__ 메서드는 객체가 생성될 때 자동으로 호출된다. 이때 매개변수를 전달받아 인스턴스 속성을 초기화 할 수 있다."
   ]
  },
  {
   "cell_type": "code",
   "execution_count": 71,
   "metadata": {},
   "outputs": [],
   "source": [
    "class Person:    \n",
    "    national = 'korea'\n",
    "    language = 'korean'\n",
    "    \n",
    "    def __init__(self, name, age):\n",
    "        self.name = name\n",
    "        self.age = age\n",
    "    \n",
    "    def greeting(self):\n",
    "        return 'Hello. This is Python'\n",
    "    \n",
    "    def information(self):\n",
    "        return \"I'm from \" + self.national + \" and I use \" + self.language + \". My name is \" + self.name + \". I'm \" + str(self.age)\n",
    "    \n",
    "    def favorite(self, color):\n",
    "        return \"I love \" + color"
   ]
  },
  {
   "cell_type": "markdown",
   "metadata": {},
   "source": [
    "---"
   ]
  },
  {
   "cell_type": "markdown",
   "metadata": {},
   "source": [
    "## 클래스와 인스턴스 (Class & Instance)"
   ]
  },
  {
   "cell_type": "markdown",
   "metadata": {},
   "source": [
    "### 인스턴스 생성"
   ]
  },
  {
   "cell_type": "markdown",
   "metadata": {},
   "source": [
    "- 클래스명 뒤에 소괄호(())를 붙여 객체를 생성할 수 있다.<br>\n",
    "  (이때 클래스 내에 생성자가 정의되어 있는 경우, 소괄호 안에 값을 넣어 객체를 생성할 수 있다.)\n",
    "- 클래스로 객체를 생성하면 메모리에 매번 서로 다른 주소를 가진 인스턴스가 할당된다.<br>\n",
    "  인스턴스는 각각 독립적인 공간이 되며, 필드가 있을 경우 서로 다른 상태값을 가진다."
   ]
  },
  {
   "cell_type": "code",
   "execution_count": null,
   "metadata": {},
   "outputs": [
    {
     "name": "stdout",
     "output_type": "stream",
     "text": [
      "<__main__.Person object at 0x000001E8BADD9910>\n",
      "<__main__.Person object at 0x000001E8BADD9550>\n",
      "korea\n",
      "Hello. This is Python\n",
      "I'm from korea and I use korean. My name is 고릴라. I'm 20\n",
      "I love black\n"
     ]
    }
   ],
   "source": [
    "squirrel = Person('다람쥐', 900)\n",
    "Gorilla = Person('고릴라', 20)\n",
    "\n",
    "print(squirrel)\n",
    "print(Gorilla)\n",
    "\n",
    "print(squirrel.national)\n",
    "print(squirrel.greeting())\n",
    "print(Gorilla.information())\n",
    "print(Gorilla.favorite('black'))"
   ]
  },
  {
   "cell_type": "markdown",
   "metadata": {},
   "source": [
    "### 클래스 속성과 인스턴스 속성"
   ]
  },
  {
   "cell_type": "markdown",
   "metadata": {},
   "source": [
    "- 인스턴스 변수는 인스턴스별 데이터를 위한 것이고, 클래스 변수는 그 클래스의 모든 인스턴스에서 공유되는 어트리뷰트와 메서드를 위해 사용한다.\n",
    "- 클래스 속성은 공유되는 속성으로 변경이 발생하면, 전체 객체에서 변경될 수 있다."
   ]
  },
  {
   "cell_type": "code",
   "execution_count": 73,
   "metadata": {},
   "outputs": [
    {
     "name": "stdout",
     "output_type": "stream",
     "text": [
      "전사 산골짜기다람쥐님의 보유 스킬 ['곤봉 휘두르기', '마법진 그려서 날려버리기']\n"
     ]
    }
   ],
   "source": [
    "class Character:    \n",
    "    skills = []\n",
    "    \n",
    "    def __init__(self, nickname, type):\n",
    "        self.nickname = nickname\n",
    "        self.type = type\n",
    "        \n",
    "    def add_skill(self, skill):\n",
    "        self.skills.append(skill)\n",
    "    \n",
    "    def show_skill(self):\n",
    "        return self.type + ' ' + self.nickname + '님의 보유 스킬 ' + str(self.skills)\n",
    "\n",
    "my_character = Character('산골짜기다람쥐', '전사')\n",
    "your_character = Character('흑염룡의고릴라', '법사')\n",
    "my_character.add_skill('곤봉 휘두르기')\n",
    "your_character.add_skill('마법진 그려서 날려버리기')\n",
    "\n",
    "print(my_character.show_skill())"
   ]
  },
  {
   "cell_type": "markdown",
   "metadata": {},
   "source": [
    "- 따라서 객체마다 다른 데이터를 관리해야 하는 경우에는 인스턴스 속성으로 설정해야 한다."
   ]
  },
  {
   "cell_type": "code",
   "execution_count": 74,
   "metadata": {},
   "outputs": [
    {
     "name": "stdout",
     "output_type": "stream",
     "text": [
      "전사 산골짜기다람쥐님의 보유 스킬 ['곤봉 휘두르기']\n"
     ]
    }
   ],
   "source": [
    "class Character:        \n",
    "    def __init__(self, nickname, type):\n",
    "        self.nickname = nickname\n",
    "        self.type = type\n",
    "        self.skills = []\n",
    "        \n",
    "    def add_skill(self, skill):\n",
    "        self.skills.append(skill)\n",
    "    \n",
    "    def show_skill(self):\n",
    "        return self.type + ' ' + self.nickname + '님의 보유 스킬 ' + str(self.skills)\n",
    "\n",
    "my_character = Character('산골짜기다람쥐', '전사')\n",
    "your_character = Character('흑염룡의고릴라', '법사')\n",
    "my_character.add_skill('곤봉 휘두르기')\n",
    "your_character.add_skill('마법진 그려서 날려버리기')\n",
    "\n",
    "print(my_character.show_skill())"
   ]
  },
  {
   "cell_type": "markdown",
   "metadata": {},
   "source": [
    "- 인스턴스 속성과 클래스 속성으로 같은 이름을 사용하면, 인스턴스 속성을 우선한다."
   ]
  },
  {
   "cell_type": "code",
   "execution_count": 75,
   "metadata": {},
   "outputs": [
    {
     "name": "stdout",
     "output_type": "stream",
     "text": [
      "산골짜기다람쥐\n"
     ]
    }
   ],
   "source": [
    "class Character:        \n",
    "    nickname = '땅파먹는개미핥기'\n",
    "    \n",
    "    def __init__(self, nickname, type):\n",
    "        self.nickname = nickname\n",
    "        self.type = type\n",
    "\n",
    "my_character = Character('산골짜기다람쥐', '전사')\n",
    "\n",
    "print(my_character.nickname)"
   ]
  },
  {
   "cell_type": "markdown",
   "metadata": {},
   "source": [
    "---"
   ]
  },
  {
   "cell_type": "markdown",
   "metadata": {},
   "source": [
    "## 클래스 구조 및 인스턴스 관련 참고"
   ]
  },
  {
   "cell_type": "markdown",
   "metadata": {},
   "source": [
    "### 네임스페이스와 스코프"
   ]
  },
  {
   "cell_type": "markdown",
   "metadata": {},
   "source": [
    "- 네임스페이스는 크게 다섯 가지로 나누어 볼 수 있다.\n",
    "    1. 지역(local) 네임스페이스: 현재 함수나 메서드 내의 네임스페이스\n",
    "    1. 인스턴스 네임스페이스: 인스턴스 객체의 네임스페이스\n",
    "    1. 클래스 네임스페이스: 클래스 객체의 네임스페이스\n",
    "    1. 전역(global) 네임스페이스: 모듈 내의 전역 네임스페이스\n",
    "    1. 내장(built-in) 네임스페이스: 파이썬 내장 함수와 예외를 포함하는 네임스페이스\n",
    "- 네임스페이스 검색 순서는 가장 가까운 (가장 작은) 스코프 순서로 보통 로컬 > 전역 > 빌트인 순이다."
   ]
  },
  {
   "cell_type": "code",
   "execution_count": 76,
   "metadata": {},
   "outputs": [
    {
     "name": "stdout",
     "output_type": "stream",
     "text": [
      "전역:  global variable\n",
      "지역(외부 함수):  outer variable\n",
      "지역(내부 함수):  inner variable\n",
      "인스턴스:  instance variable\n",
      "클래스 지역:  local variable\n"
     ]
    }
   ],
   "source": [
    "# 전역 네임스페이스\n",
    "variable = \"global variable\"\n",
    "print('전역: ', variable)\n",
    "\n",
    "def outer_function():\n",
    "    # 외부 함수 네임스페이스\n",
    "    variable = \"outer variable\"\n",
    "    print('지역(외부 함수): ', variable)\n",
    "    \n",
    "    def inner_function():\n",
    "        # 지역 네임스페이스\n",
    "        variable = \"inner variable\"\n",
    "        print('지역(내부 함수): ', variable)\n",
    "    \n",
    "    inner_function()\n",
    "\n",
    "outer_function()\n",
    "\n",
    "class TestClass:\n",
    "    # 클래스 네임스페이스\n",
    "    variable = \"class variable\"\n",
    "    \n",
    "    def __init__(self, value):\n",
    "        self.variable = value  # 인스턴스 네임스페이스\n",
    "    \n",
    "    def class_function(self):\n",
    "        variable = \"local variable\"\n",
    "        print('클래스 지역: ', variable)\n",
    "\n",
    "# 인스턴스 생성 및 메서드 호출\n",
    "obj = TestClass(\"instance variable\")\n",
    "print('인스턴스: ', obj.variable)\n",
    "obj.class_function()\n"
   ]
  },
  {
   "cell_type": "markdown",
   "metadata": {},
   "source": [
    "### global & nonlocal"
   ]
  },
  {
   "cell_type": "markdown",
   "metadata": {},
   "source": [
    "- global\n",
    "    - 함수 내부에서 전역 변수를 참조하거나 수정할 때 사용하여, 함수 내부에서 전역 변수에 접근할 수 있다.\n",
    "    - 설정 값을 전역적으로 유지하고 여러 함수에서 이 값을 변경하거나 참조할 때 유용하다."
   ]
  },
  {
   "cell_type": "code",
   "execution_count": 77,
   "metadata": {},
   "outputs": [
    {
     "name": "stdout",
     "output_type": "stream",
     "text": [
      "global variable\n",
      "global modified in function\n"
     ]
    }
   ],
   "source": [
    "g_variable = \"global variable\"\n",
    "\n",
    "def modify_global():\n",
    "    global g_variable\n",
    "    g_variable = \"global modified in function\"\n",
    "\n",
    "print(g_variable)\n",
    "modify_global()\n",
    "print(g_variable)"
   ]
  },
  {
   "cell_type": "markdown",
   "metadata": {},
   "source": [
    "- nonlocal\n",
    "    - nonlocal 키워드는 중첩 함수에서 바깥 함수의 변수(로컬 변수를 포함)를 참조하거나 수정할 때 사용하며, 중첩 함수에서 한 단계 바깥의 함수 변수에 접근할 수 있다.\n",
    "    - 클로저(closure)나 함수형 프로그래밍 패턴에서 바깥 함수의 상태를 유지하고 수정하는 경우에 유용하다."
   ]
  },
  {
   "cell_type": "code",
   "execution_count": 78,
   "metadata": {},
   "outputs": [
    {
     "name": "stdout",
     "output_type": "stream",
     "text": [
      "outer variable\n",
      "outer modified in inner function\n"
     ]
    }
   ],
   "source": [
    "def outer_function():\n",
    "    variable = \"outer variable\"\n",
    "\n",
    "    def inner_function():\n",
    "        nonlocal variable\n",
    "        variable = \"outer modified in inner function\"\n",
    "\n",
    "    print(variable)\n",
    "    inner_function()\n",
    "    print(variable)\n",
    "\n",
    "outer_function()"
   ]
  },
  {
   "cell_type": "markdown",
   "metadata": {},
   "source": [
    "### Private Variable"
   ]
  },
  {
   "cell_type": "markdown",
   "metadata": {},
   "source": [
    "- 객체 내부에서만 접근할 수 있는 private은 파이썬에 존재하지 않는다.\n",
    "- 단, 대부분의 파이썬 코드에서 따르는 밑줄로 시작하는 네임스페이스를 가진 속성은 private하게 취급된다는 규약을 통해 private 속성을 설정할 수 있다."
   ]
  },
  {
   "cell_type": "code",
   "execution_count": 79,
   "metadata": {},
   "outputs": [
    {
     "name": "stdout",
     "output_type": "stream",
     "text": [
      "산골짜기다람쥐\n",
      "'Character' object has no attribute '__type'\n",
      "전사\n",
      "법사\n",
      "잘못된 캐릭터 타입을 선택하였습니다.\n"
     ]
    }
   ],
   "source": [
    "class Character:\n",
    "    def __init__(self, nickname, type):\n",
    "        self.nickname = nickname      # Public attribute\n",
    "        self.__type = type            # Private attribute\n",
    "\n",
    "    def get_type(self):\n",
    "        return self.__type\n",
    "\n",
    "    def set_type(self, type):\n",
    "        character_types = ['전사', '법사', '치유사']\n",
    "        for given_type in character_types:\n",
    "            if(type == given_type):\n",
    "                self.__type = type\n",
    "                return\n",
    "        \n",
    "        raise ValueError(\"잘못된 캐릭터 타입을 선택하였습니다.\")\n",
    "\n",
    "my_character = Character(\"산골짜기다람쥐\", \"전사\")\n",
    "\n",
    "print(my_character.nickname)\n",
    "\n",
    "# Private attribute에 직접 접근 시도 (실패)\n",
    "try:\n",
    "    print(my_character.__type)\n",
    "except AttributeError as e:\n",
    "    print(e)\n",
    "\n",
    "# Private attribute에 접근하는 public method 사용\n",
    "print(my_character.get_type())\n",
    "\n",
    "# Public method를 통해 private attribute 수정\n",
    "my_character.set_type(\"법사\")\n",
    "print(my_character.get_type())\n",
    "\n",
    "# 잘못된 값으로 수정 시도\n",
    "try:\n",
    "    my_character.set_type(\"흑마법사\")\n",
    "except ValueError as e:\n",
    "    print(e)\n"
   ]
  },
  {
   "cell_type": "markdown",
   "metadata": {},
   "source": [
    "---"
   ]
  },
  {
   "cell_type": "markdown",
   "metadata": {},
   "source": [
    "## 상속 (Inheritance)"
   ]
  },
  {
   "cell_type": "markdown",
   "metadata": {},
   "source": [
    "- 파이썬도 클래스의 상속을 지원하며, 기본 문법은 아래와 같다.\n",
    "    ```\n",
    "    class DerivedClassName(BaseClassName):\n",
    "        <statement-1>\n",
    "        .\n",
    "        .\n",
    "        .\n",
    "        <statement-N>\n",
    "    ```\n",
    "- 자식 클래스는 부모 클래스의 필드나 메서드를 사용할 수 있다."
   ]
  },
  {
   "cell_type": "code",
   "execution_count": 80,
   "metadata": {},
   "outputs": [
    {
     "name": "stdout",
     "output_type": "stream",
     "text": [
      "Hello. This is Python\n"
     ]
    }
   ],
   "source": [
    "class Person:\n",
    "    national = 'korea'\n",
    "    \n",
    "    def greeting(self):\n",
    "        return 'Hello. This is Python'\n",
    "\n",
    "class Student(Person):\n",
    "    pass\n",
    "\n",
    "student = Student()\n",
    "print(student.greeting())"
   ]
  },
  {
   "cell_type": "markdown",
   "metadata": {},
   "source": [
    "- 다중 상속을 지원한다.\n",
    "    ```\n",
    "    class DerivedClassName(Base1, Base2, Base3):\n",
    "        <statement-1>\n",
    "        .\n",
    "        .\n",
    "        .\n",
    "        <statement-N>\n",
    "    ```\n",
    "    - 다중 상속 시 검색 순서는 왼쪽에서 오른쪽으로 탐색한다."
   ]
  },
  {
   "cell_type": "code",
   "execution_count": 81,
   "metadata": {},
   "outputs": [
    {
     "name": "stdout",
     "output_type": "stream",
     "text": [
      "Hello. This is Python\n",
      "I am learning Python\n"
     ]
    }
   ],
   "source": [
    "class Person:\n",
    "    national = 'korea'\n",
    "    \n",
    "    def greeting(self):\n",
    "        return 'Hello. This is Python'\n",
    "\n",
    "class Learner:\n",
    "    def greeting(self):\n",
    "        return 'Hello. I am Learner'\n",
    "    \n",
    "    def learn(self):\n",
    "        return 'I am learning Python'\n",
    "\n",
    "class Student(Person, Learner):\n",
    "    pass\n",
    "\n",
    "student = Student()\n",
    "print(student.greeting())\n",
    "print(student.learn())\n"
   ]
  },
  {
   "cell_type": "markdown",
   "metadata": {},
   "source": [
    "- 다른 모듈에 포함된 클래스도 상속받을 수 있다.\n",
    "    ```\n",
    "    class DerivedClassName(module_name.BaseClassName):\n",
    "        <statement-1>\n",
    "        .\n",
    "        .\n",
    "        .\n",
    "        <statement-N>\n",
    "    ```"
   ]
  },
  {
   "cell_type": "markdown",
   "metadata": {},
   "source": [
    "- 부모 클래스의 속성을 오버라이딩 할 수 있다."
   ]
  },
  {
   "cell_type": "code",
   "execution_count": 82,
   "metadata": {},
   "outputs": [
    {
     "name": "stdout",
     "output_type": "stream",
     "text": [
      "Hello. My name is 다람쥐\n",
      "I am learning python\n"
     ]
    }
   ],
   "source": [
    "class Person:\n",
    "    national = 'korea'\n",
    "    \n",
    "    def greeting(self):\n",
    "        return 'Hello. This is Python'\n",
    "\n",
    "class Learner(Person):\n",
    "    def __init__(self, subject):\n",
    "        self.subject = subject\n",
    "    \n",
    "    def learn(self):\n",
    "        return 'I am learning ' + self.subject\n",
    "\n",
    "class Student(Learner):\n",
    "    def __init__(self, name, subject):\n",
    "        Learner.__init__(self, subject)\n",
    "        self.name = name;\n",
    "    \n",
    "    def greeting(self):\n",
    "        return 'Hello. My name is ' + self.name\n",
    "\n",
    "student = Student('다람쥐', 'python')\n",
    "print(student.greeting())\n",
    "print(student.learn())\n"
   ]
  }
 ],
 "metadata": {
  "kernelspec": {
   "display_name": "pystudy_env",
   "language": "python",
   "name": "python3"
  },
  "language_info": {
   "codemirror_mode": {
    "name": "ipython",
    "version": 3
   },
   "file_extension": ".py",
   "mimetype": "text/x-python",
   "name": "python",
   "nbconvert_exporter": "python",
   "pygments_lexer": "ipython3",
   "version": "3.12.3"
  }
 },
 "nbformat": 4,
 "nbformat_minor": 2
}

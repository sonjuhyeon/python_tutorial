{
 "cells": [
  {
   "cell_type": "markdown",
   "metadata": {},
   "source": [
    "# pandas\n",
    "pandas는 python에서 데이터 조작과 분석을 위한 라이브러리, 특히 표 형태의 데이터를 처리하는데 매우 유용 <br>\n",
    "데이터 프레임 이라는 구조를 사용해 데이터를 효율적 다룸<br>\n",
    "데이터 분석 작업에서 핵심적인 도구로 사용되며, 데이터 수집, 정리, 탐색, 변환, 분석 등의 과정을 단순화\n",
    "\n",
    "- 주요기능\n",
    "  1. 데이터 구조<br>\n",
    "  Series: 1차원 배열로, 인덱스가 지정된 배열<br>\n",
    "  DataFrame: 2차원 표 형식의 데이터 구조\n",
    "  2. 빠른 데이터 처리: <br>\n",
    "  pandas는 대규모 데이터를 효율적으로 처리함<br>\n",
    "  특히 데이터 정리, 필터링, 집계와 같은 작업을 빠르게 수행\n",
    "  3. 다양한 데이터 소스와의 호환성<br>\n",
    "  CSV, Excel, SQL, JSON, HDF5, HTML 등 다양한 파일 형식에서 데이터를 쉽게 읽고 쓸 수 있음\n",
    "  4. 데이터 변환 및 정리<br>\n",
    "  검측치 처리, 중복 제거,데이터필터링, 행/열 추가 및 삭제, 데이터 정렬, 그룹화, 피벗 테이블 생성 등 데이터 변환 작업을 쉽게 수행\n",
    "  5. 통계 및 시각화 지원\n",
    "  데이터 분석에 필요한 기본적인 통계 연산(평균, 표준편차, 합계 등)을 손쉽게 수행할 수 있으며 Mappltlib과 같은 라이브러리와 연동해 시각화도 지원"
   ]
  },
  {
   "cell_type": "code",
   "execution_count": 1,
   "metadata": {},
   "outputs": [],
   "source": [
    "import pandas as pd"
   ]
  },
  {
   "cell_type": "markdown",
   "metadata": {},
   "source": [
    "### Series & DataFrame\n",
    "- Series: 1차원 데이터 구조\n",
    "- DataFrame: 2차원 데이터 구조"
   ]
  },
  {
   "cell_type": "code",
   "execution_count": 2,
   "metadata": {},
   "outputs": [
    {
     "data": {
      "text/plain": [
       "0    1\n",
       "1    2\n",
       "2    3\n",
       "3    4\n",
       "4    5\n",
       "dtype: int64"
      ]
     },
     "execution_count": 2,
     "metadata": {},
     "output_type": "execute_result"
    }
   ],
   "source": [
    "series = pd.Series([1, 2, 3, 4, 5])\n",
    "series"
   ]
  },
  {
   "cell_type": "code",
   "execution_count": 3,
   "metadata": {},
   "outputs": [
    {
     "data": {
      "text/html": [
       "<div>\n",
       "<style scoped>\n",
       "    .dataframe tbody tr th:only-of-type {\n",
       "        vertical-align: middle;\n",
       "    }\n",
       "\n",
       "    .dataframe tbody tr th {\n",
       "        vertical-align: top;\n",
       "    }\n",
       "\n",
       "    .dataframe thead th {\n",
       "        text-align: right;\n",
       "    }\n",
       "</style>\n",
       "<table border=\"1\" class=\"dataframe\">\n",
       "  <thead>\n",
       "    <tr style=\"text-align: right;\">\n",
       "      <th></th>\n",
       "      <th>name</th>\n",
       "      <th>Age</th>\n",
       "      <th>City</th>\n",
       "    </tr>\n",
       "  </thead>\n",
       "  <tbody>\n",
       "    <tr>\n",
       "      <th>0</th>\n",
       "      <td>John</td>\n",
       "      <td>28</td>\n",
       "      <td>New York</td>\n",
       "    </tr>\n",
       "    <tr>\n",
       "      <th>1</th>\n",
       "      <td>Anna</td>\n",
       "      <td>39</td>\n",
       "      <td>Paris</td>\n",
       "    </tr>\n",
       "    <tr>\n",
       "      <th>2</th>\n",
       "      <td>Peter</td>\n",
       "      <td>49</td>\n",
       "      <td>Berlin</td>\n",
       "    </tr>\n",
       "    <tr>\n",
       "      <th>3</th>\n",
       "      <td>Linda</td>\n",
       "      <td>21</td>\n",
       "      <td>London</td>\n",
       "    </tr>\n",
       "  </tbody>\n",
       "</table>\n",
       "</div>"
      ],
      "text/plain": [
       "    name  Age      City\n",
       "0   John   28  New York\n",
       "1   Anna   39     Paris\n",
       "2  Peter   49    Berlin\n",
       "3  Linda   21    London"
      ]
     },
     "execution_count": 3,
     "metadata": {},
     "output_type": "execute_result"
    }
   ],
   "source": [
    "data_dic = {\n",
    "  \"name\": [\"John\", \"Anna\", \"Peter\", \"Linda\"],\n",
    "  \"Age\": [28, 39, 49, 21],\n",
    "  \"City\": [\"New York\", \"Paris\", \"Berlin\", \"London\"]\n",
    "}\n",
    "\n",
    "df = pd.DataFrame(data_dic)\n",
    "df"
   ]
  },
  {
   "cell_type": "markdown",
   "metadata": {},
   "source": [
    "### Series\n",
    "판다스의 시리즈는 1차원 배열 형태의 데이터 구조로, 데이터와 데이터에 대한 인덱스를 함께 저장\n",
    "- 주요 특징\n",
    "  1. 시리즈는 데이터 및 관련 지수로 구성되며 숫자 인덱스가 자동으로 생성\n",
    "  2. 라벨 기반 인덱싱: 각 데이터 포인트는 인덱스(라벨)를 통해 접근할 수 있음\n",
    "  3. 결측 지원: 시리즈는 결측치(NaN)을 지원하며 데이터가 누락된 경우에도 유연하게 처리\n",
    "  4. 다양한 데이터소스: 리스트, 배열, 딕셔너리 등 다양한 형식의 데이터를 기반으로 시리즈를 생성"
   ]
  },
  {
   "cell_type": "code",
   "execution_count": 4,
   "metadata": {},
   "outputs": [
    {
     "name": "stdout",
     "output_type": "stream",
     "text": [
      "0    고양이\n",
      "1    강아지\n",
      "2    코끼리\n",
      "3    호랑이\n",
      "4     사자\n",
      "5     기린\n",
      "6      곰\n",
      "7     여우\n",
      "8     토끼\n",
      "9     늑대\n",
      "dtype: object\n",
      "0    100\n",
      "1    200\n",
      "2    300\n",
      "3    400\n",
      "4    500\n",
      "dtype: int64\n",
      "0       1\n",
      "1       1\n",
      "2     1.1\n",
      "3    True\n",
      "dtype: object\n"
     ]
    }
   ],
   "source": [
    "animal_ls = [\"고양이\", \"강아지\", \"코끼리\", \"호랑이\", \"사자\", \"기린\", \"곰\", \"여우\", \"토끼\", \"늑대\"]\n",
    "s1 = pd.Series(animal_ls)\n",
    "print(s1)\n",
    "\n",
    "s2 =  pd.Series(data=[100, 200, 300, 400, 500])\n",
    "print(s2)\n",
    "\n",
    "s3 = pd.Series([\"1\", 1, 1.1, True])\n",
    "print(s3)"
   ]
  },
  {
   "cell_type": "markdown",
   "metadata": {},
   "source": [
    "### Series의 인덱스 정의\n",
    "데이터의 구조와 의미를 명확하게 하며, 데이터 접근성과 조작의 효율성을 높이는데 중요한 역할을 함<br>\n",
    "데이터 전처리 과정에서 매우 유용하게 사용됨"
   ]
  },
  {
   "cell_type": "code",
   "execution_count": 5,
   "metadata": {},
   "outputs": [
    {
     "data": {
      "text/plain": [
       "영화1    인터스텔라\n",
       "영화2     어벤져스\n",
       "영화3       파묘\n",
       "영화4     엔드게임\n",
       "dtype: object"
      ]
     },
     "execution_count": 5,
     "metadata": {},
     "output_type": "execute_result"
    }
   ],
   "source": [
    "movie_ls = [\"인터스텔라\", \"어벤져스\", \"파묘\", \"엔드게임\"]\n",
    "my_label = [\"영화1\", \"영화2\", \"영화3\", \"영화4\"]\n",
    "\n",
    "custom_series = pd.Series(data=movie_ls, index=my_label)\n",
    "custom_series"
   ]
  },
  {
   "cell_type": "markdown",
   "metadata": {},
   "source": [
    "### 딕셔너리 형태의 시리즈 생성"
   ]
  },
  {
   "cell_type": "code",
   "execution_count": 6,
   "metadata": {},
   "outputs": [
    {
     "data": {
      "text/plain": [
       "Name           Juhyeon\n",
       "Age                 28\n",
       "phone    010-3798-1814\n",
       "dtype: object"
      ]
     },
     "execution_count": 6,
     "metadata": {},
     "output_type": "execute_result"
    }
   ],
   "source": [
    "my_info = {\n",
    "  \"Name\": \"Juhyeon\",\n",
    "  \"Age\": 28,\n",
    "  \"phone\": \"010-3798-1814\"\n",
    "}\n",
    "\n",
    "series_dic = pd.Series(my_info)\n",
    "series_dic"
   ]
  },
  {
   "cell_type": "markdown",
   "metadata": {},
   "source": [
    "### 시리지 기본속성 알아보기"
   ]
  },
  {
   "cell_type": "code",
   "execution_count": 7,
   "metadata": {},
   "outputs": [
    {
     "data": {
      "text/plain": [
       "영화1    인터스텔라\n",
       "영화2     어벤져스\n",
       "영화3       파묘\n",
       "영화4     엔드게임\n",
       "dtype: object"
      ]
     },
     "execution_count": 7,
     "metadata": {},
     "output_type": "execute_result"
    }
   ],
   "source": [
    "custom_series"
   ]
  },
  {
   "cell_type": "code",
   "execution_count": 8,
   "metadata": {},
   "outputs": [
    {
     "name": "stdout",
     "output_type": "stream",
     "text": [
      "['인터스텔라' '어벤져스' '파묘' '엔드게임'] <class 'numpy.ndarray'>\n"
     ]
    }
   ],
   "source": [
    "# values -> series객체에 저장된 데이터를 numpy 형식으로 변환\n",
    "print(custom_series.values, type(custom_series.values))"
   ]
  },
  {
   "cell_type": "code",
   "execution_count": 9,
   "metadata": {},
   "outputs": [
    {
     "name": "stdout",
     "output_type": "stream",
     "text": [
      "Index(['영화1', '영화2', '영화3', '영화4'], dtype='object') <class 'pandas.core.indexes.base.Index'>\n"
     ]
    }
   ],
   "source": [
    "# index -> 각데이터 포인트에 대한 고유한 라벨을 제공, 데이터 접근 및 조작에 중요한 역할\n",
    "print(custom_series.index, type(custom_series.index))"
   ]
  },
  {
   "cell_type": "code",
   "execution_count": 10,
   "metadata": {},
   "outputs": [
    {
     "data": {
      "text/plain": [
       "dtype('O')"
      ]
     },
     "execution_count": 10,
     "metadata": {},
     "output_type": "execute_result"
    }
   ],
   "source": [
    "# dtype -> datatype의 줄임말, pandas 시리즈에 저장된 데이터 타입을 나타냄\n",
    "# 'O'는 Object(객체)의 약자\n",
    "# String은 Object 타입\n",
    "\n",
    "custom_series.dtype"
   ]
  },
  {
   "cell_type": "code",
   "execution_count": 11,
   "metadata": {},
   "outputs": [
    {
     "data": {
      "text/plain": [
       "True"
      ]
     },
     "execution_count": 11,
     "metadata": {},
     "output_type": "execute_result"
    }
   ],
   "source": [
    "# is_unique -> 인덱스의 값이 고유한지 확인\n",
    "\n",
    "custom_series.is_unique"
   ]
  },
  {
   "cell_type": "code",
   "execution_count": 12,
   "metadata": {},
   "outputs": [
    {
     "data": {
      "text/plain": [
       "(4,)"
      ]
     },
     "execution_count": 12,
     "metadata": {},
     "output_type": "execute_result"
    }
   ],
   "source": [
    "# shape -> Series의 형태를 반환\n",
    "# (4,)은 1차원에 4개 요소가 존재한다는 뜻\n",
    "\n",
    "custom_series.shape"
   ]
  },
  {
   "cell_type": "markdown",
   "metadata": {},
   "source": [
    "### 시리즈의 기본 메서드"
   ]
  },
  {
   "cell_type": "code",
   "execution_count": 13,
   "metadata": {},
   "outputs": [
    {
     "data": {
      "text/plain": [
       "0    100\n",
       "1    200\n",
       "2    300\n",
       "3    400\n",
       "4    500\n",
       "5    600\n",
       "dtype: int64"
      ]
     },
     "execution_count": 13,
     "metadata": {},
     "output_type": "execute_result"
    }
   ],
   "source": [
    "my_series =  pd.Series(data=[100, 200, 300, 400, 500, 600])\n",
    "\n",
    "my_series"
   ]
  },
  {
   "cell_type": "code",
   "execution_count": 14,
   "metadata": {},
   "outputs": [
    {
     "data": {
      "text/plain": [
       "2100"
      ]
     },
     "execution_count": 14,
     "metadata": {},
     "output_type": "execute_result"
    }
   ],
   "source": [
    "# sum() -> 시리즈의 모든 요소의 합\n",
    "\n",
    "my_series.sum()"
   ]
  },
  {
   "cell_type": "code",
   "execution_count": 15,
   "metadata": {},
   "outputs": [
    {
     "data": {
      "text/plain": [
       "720000000000000"
      ]
     },
     "execution_count": 15,
     "metadata": {},
     "output_type": "execute_result"
    }
   ],
   "source": [
    "# pruduct() -> 시리즈의 모든 요소의 곱\n",
    "\n",
    "my_series.product()"
   ]
  },
  {
   "cell_type": "code",
   "execution_count": 16,
   "metadata": {},
   "outputs": [
    {
     "data": {
      "text/plain": [
       "350.0"
      ]
     },
     "execution_count": 16,
     "metadata": {},
     "output_type": "execute_result"
    }
   ],
   "source": [
    "# mean() -> 시리즈 요소의 평균\n",
    "\n",
    "my_series.mean()"
   ]
  },
  {
   "cell_type": "code",
   "execution_count": 17,
   "metadata": {},
   "outputs": [
    {
     "name": "stdout",
     "output_type": "stream",
     "text": [
      "0    100\n",
      "1    200\n",
      "2    300\n",
      "3    400\n",
      "4    500\n",
      "dtype: int64\n",
      "0    100\n",
      "1    200\n",
      "dtype: int64\n"
     ]
    }
   ],
   "source": [
    "# head() -> 처음부터 5번째 요소까지 출력\n",
    "# head(n) -> 처음부터 n번째 요소까지 출력\n",
    "\n",
    "print(my_series.head())\n",
    "print(my_series.head(2))"
   ]
  },
  {
   "cell_type": "code",
   "execution_count": 18,
   "metadata": {},
   "outputs": [
    {
     "name": "stdout",
     "output_type": "stream",
     "text": [
      "1    200\n",
      "2    300\n",
      "3    400\n",
      "4    500\n",
      "5    600\n",
      "dtype: int64\n",
      "4    500\n",
      "5    600\n",
      "dtype: int64\n"
     ]
    }
   ],
   "source": [
    "# tail() -> 마지막에서 5번째 요소부터 출력\n",
    "# tail(n) -> 마지막에서 n번째 요소부터 출력\n",
    "\n",
    "print(my_series.tail())\n",
    "print(my_series.tail(2))"
   ]
  },
  {
   "cell_type": "code",
   "execution_count": 19,
   "metadata": {},
   "outputs": [
    {
     "data": {
      "text/plain": [
       "0    False\n",
       "1    False\n",
       "2    False\n",
       "3    False\n",
       "4    False\n",
       "5    False\n",
       "dtype: bool"
      ]
     },
     "execution_count": 19,
     "metadata": {},
     "output_type": "execute_result"
    }
   ],
   "source": [
    "# isin() -> 특정 값이 포함되어 있는지 확인\n",
    "my_series.isin([\"고릴라\"])"
   ]
  },
  {
   "cell_type": "code",
   "execution_count": 20,
   "metadata": {},
   "outputs": [
    {
     "data": {
      "text/plain": [
       "Series([], dtype: int64)"
      ]
     },
     "execution_count": 20,
     "metadata": {},
     "output_type": "execute_result"
    }
   ],
   "source": [
    "# duplicated() -> 시리즈에서 중복된 값을 찾는 메서드이다.\n",
    "my_series[my_series.duplicated(keep=False)]"
   ]
  },
  {
   "cell_type": "markdown",
   "metadata": {},
   "source": [
    "### 시리즈 데이터 필터링 및 수정"
   ]
  },
  {
   "cell_type": "code",
   "execution_count": 21,
   "metadata": {},
   "outputs": [
    {
     "data": {
      "text/plain": [
       "1번    고양이\n",
       "2번    강아지\n",
       "3번    코끼리\n",
       "4번    호랑이\n",
       "dtype: object"
      ]
     },
     "execution_count": 21,
     "metadata": {},
     "output_type": "execute_result"
    }
   ],
   "source": [
    "animal_ls = ['고양이', '강아지', '코끼리', '호랑이']\n",
    "label_ls = ['1번', '2번', '3번', '4번']\n",
    "my_series = pd.Series(data=animal_ls, index=label_ls)\n",
    "\n",
    "my_series"
   ]
  },
  {
   "cell_type": "code",
   "execution_count": 22,
   "metadata": {},
   "outputs": [
    {
     "data": {
      "text/plain": [
       "1번    야옹이\n",
       "2번    강아지\n",
       "3번    코끼리\n",
       "4번    호랑이\n",
       "dtype: object"
      ]
     },
     "execution_count": 22,
     "metadata": {},
     "output_type": "execute_result"
    }
   ],
   "source": [
    "# 1번 데이터 접근 및 수정\n",
    "my_series[\"1번\"] = \"야옹이\"\n",
    "my_series"
   ]
  },
  {
   "cell_type": "code",
   "execution_count": 23,
   "metadata": {},
   "outputs": [
    {
     "data": {
      "text/plain": [
       "1번    야옹이\n",
       "2번    강아지\n",
       "3번    코끼리\n",
       "dtype: object"
      ]
     },
     "execution_count": 23,
     "metadata": {},
     "output_type": "execute_result"
    }
   ],
   "source": [
    "# 여러 인덱스 접근\n",
    "filtered_data = my_series[[\"1번\", \"2번\", \"3번\"]]\n",
    "filtered_data"
   ]
  },
  {
   "cell_type": "code",
   "execution_count": 24,
   "metadata": {},
   "outputs": [
    {
     "name": "stdout",
     "output_type": "stream",
     "text": [
      "1번    야옹이\n",
      "4번    호랑이\n",
      "dtype: object\n",
      "2번    강아지\n",
      "dtype: object\n",
      "Series([], dtype: object)\n"
     ]
    }
   ],
   "source": [
    "bool_ls = [True, False, False, True]\n",
    "print(my_series[bool_ls])\n",
    "\n",
    "# 조건식을 이용한 참조\n",
    "print(my_series[my_series == \"강아지\"])\n",
    "print(my_series[my_series == \"고릴라\"])"
   ]
  },
  {
   "cell_type": "markdown",
   "metadata": {},
   "source": [
    "### 시리즈 정렬"
   ]
  },
  {
   "cell_type": "code",
   "execution_count": 25,
   "metadata": {},
   "outputs": [
    {
     "name": "stdout",
     "output_type": "stream",
     "text": [
      "0    30\n",
      "1    45\n",
      "2    20\n",
      "3    25\n",
      "4    35\n",
      "5    50\n",
      "6    40\n",
      "Name: Age, dtype: int64\n"
     ]
    },
    {
     "data": {
      "text/plain": [
       "Animal\n",
       "다람쥐   NaN\n",
       "돼지    NaN\n",
       "고릴라   NaN\n",
       "원숭이   NaN\n",
       "호랑이   NaN\n",
       "곰     NaN\n",
       "늑대    NaN\n",
       "Name: Age, dtype: float64"
      ]
     },
     "execution_count": 25,
     "metadata": {},
     "output_type": "execute_result"
    }
   ],
   "source": [
    "animal_csv = pd.read_csv(\"../00_data/series_sample.csv\")\n",
    "print(animal_csv[\"Age\"])\n",
    "\n",
    "animal_series = pd.Series(data=animal_csv[\"Age\"], index=animal_csv[\"Animal\"])\n",
    "animal_series"
   ]
  },
  {
   "cell_type": "code",
   "execution_count": 26,
   "metadata": {},
   "outputs": [
    {
     "data": {
      "text/plain": [
       "Animal\n",
       "다람쥐    30\n",
       "돼지     45\n",
       "고릴라    20\n",
       "원숭이    25\n",
       "호랑이    35\n",
       "곰      50\n",
       "늑대     40\n",
       "dtype: int64"
      ]
     },
     "execution_count": 26,
     "metadata": {},
     "output_type": "execute_result"
    }
   ],
   "source": [
    "animal_series = pd.Series(data=animal_csv[\"Age\"].values, index=animal_csv[\"Animal\"])\n",
    "animal_series"
   ]
  },
  {
   "cell_type": "code",
   "execution_count": 27,
   "metadata": {},
   "outputs": [
    {
     "name": "stdout",
     "output_type": "stream",
     "text": [
      "Animal\n",
      "고릴라    20\n",
      "원숭이    25\n",
      "다람쥐    30\n",
      "호랑이    35\n",
      "늑대     40\n",
      "돼지     45\n",
      "곰      50\n",
      "dtype: int64\n",
      "Animal\n",
      "곰      50\n",
      "돼지     45\n",
      "늑대     40\n",
      "호랑이    35\n",
      "다람쥐    30\n",
      "원숭이    25\n",
      "고릴라    20\n",
      "dtype: int64\n"
     ]
    }
   ],
   "source": [
    "# sort_values() -> 시리즈의 값을 기준으로 정렬\n",
    "# .sort_values(ascending = False) -> 내림차순으로 정렬 (defalt는 True)\n",
    "\n",
    "print(animal_series.sort_values())\n",
    "print(animal_series.sort_values(ascending=False))"
   ]
  },
  {
   "cell_type": "code",
   "execution_count": 28,
   "metadata": {},
   "outputs": [
    {
     "name": "stdout",
     "output_type": "stream",
     "text": [
      "Animal\n",
      "고릴라    20\n",
      "원숭이    25\n",
      "다람쥐    30\n",
      "호랑이    35\n",
      "늑대     40\n",
      "돼지     45\n",
      "곰      50\n",
      "dtype: int64\n",
      "Animal\n",
      "다람쥐    30\n",
      "돼지     45\n",
      "고릴라    20\n",
      "원숭이    25\n",
      "호랑이    35\n",
      "곰      50\n",
      "늑대     40\n",
      "dtype: int64\n",
      "Animal\n",
      "고릴라    20\n",
      "원숭이    25\n",
      "다람쥐    30\n",
      "호랑이    35\n",
      "늑대     40\n",
      "돼지     45\n",
      "곰      50\n",
      "dtype: int64\n"
     ]
    }
   ],
   "source": [
    "print(animal_series.sort_values()) # 정렬된 값을 반환, 원본에는 영향이 없음\n",
    "print(animal_series) # 정렬 안됨\n",
    "\n",
    "animal_series.sort_values(inplace=True)\n",
    "print(animal_series) # 원본이 정렬 됨\n"
   ]
  },
  {
   "cell_type": "code",
   "execution_count": 29,
   "metadata": {},
   "outputs": [
    {
     "name": "stdout",
     "output_type": "stream",
     "text": [
      "    Animal\n",
      "Age       \n",
      "30     다람쥐\n",
      "45      돼지\n",
      "20     고릴라\n",
      "25     원숭이\n",
      "35     호랑이\n",
      "50       곰\n",
      "40      늑대\n",
      "<class 'pandas.core.frame.DataFrame'>\n",
      "Age\n",
      "30    다람쥐\n",
      "45     돼지\n",
      "20    고릴라\n",
      "25    원숭이\n",
      "35    호랑이\n",
      "50      곰\n",
      "40     늑대\n",
      "Name: Animal, dtype: object\n",
      "<class 'pandas.core.series.Series'>\n"
     ]
    },
    {
     "data": {
      "text/plain": [
       "Age\n",
       "20    고릴라\n",
       "50      곰\n",
       "40     늑대\n",
       "30    다람쥐\n",
       "45     돼지\n",
       "25    원숭이\n",
       "35    호랑이\n",
       "Name: Animal, dtype: object"
      ]
     },
     "execution_count": 29,
     "metadata": {},
     "output_type": "execute_result"
    }
   ],
   "source": [
    "# squeeze() -> 차원이 1인 축을 제거하여 차원이 축소된 객체를 반환\n",
    "# 1차원으로 축소 가능한 경우에만 차원을 줄임\n",
    "\n",
    "animal_csv = pd.read_csv(\"../00_data/series_sample.csv\", index_col=\"Age\")\n",
    "print(animal_csv)\n",
    "print(type(animal_csv))\n",
    "\n",
    "print(animal_csv.squeeze())\n",
    "print(type(animal_csv.squeeze()))\n",
    "\n",
    "animal_sorted = animal_csv.squeeze().sort_values()\n",
    "animal_sorted"
   ]
  },
  {
   "cell_type": "code",
   "execution_count": 30,
   "metadata": {},
   "outputs": [
    {
     "data": {
      "text/plain": [
       "Age\n",
       "20    고릴라\n",
       "25    원숭이\n",
       "30    다람쥐\n",
       "35    호랑이\n",
       "40     늑대\n",
       "45     돼지\n",
       "50      곰\n",
       "Name: Animal, dtype: object"
      ]
     },
     "execution_count": 30,
     "metadata": {},
     "output_type": "execute_result"
    }
   ],
   "source": [
    "# index 기준으로 정렬\n",
    "animal_sorted.sort_index()"
   ]
  },
  {
   "cell_type": "markdown",
   "metadata": {},
   "source": [
    "### 시리즈에서 연산 수행"
   ]
  },
  {
   "cell_type": "code",
   "execution_count": 31,
   "metadata": {},
   "outputs": [
    {
     "data": {
      "text/plain": [
       "Age\n",
       "30    다람쥐\n",
       "45     돼지\n",
       "20    고릴라\n",
       "25    원숭이\n",
       "35    호랑이\n",
       "50      곰\n",
       "40     늑대\n",
       "Name: Animal, dtype: object"
      ]
     },
     "execution_count": 31,
     "metadata": {},
     "output_type": "execute_result"
    }
   ],
   "source": [
    "animal_series = pd.read_csv(\"../00_data/series_sample.csv\", index_col=\"Age\").squeeze()\n",
    "animal_series\n"
   ]
  },
  {
   "cell_type": "code",
   "execution_count": 32,
   "metadata": {},
   "outputs": [
    {
     "data": {
      "text/plain": [
       "7"
      ]
     },
     "execution_count": 32,
     "metadata": {},
     "output_type": "execute_result"
    }
   ],
   "source": [
    "# count() -> 길이 확인\n",
    "\n",
    "animal_series.count()"
   ]
  },
  {
   "cell_type": "code",
   "execution_count": 33,
   "metadata": {},
   "outputs": [
    {
     "name": "stdout",
     "output_type": "stream",
     "text": [
      "호랑이\n",
      "고릴라\n",
      "50\n",
      "20\n"
     ]
    }
   ],
   "source": [
    "# 최대값과 최소값 구하기\n",
    "print(animal_series.max())\n",
    "print(animal_series.min())\n",
    "\n",
    "animal_series = pd.read_csv(\"../00_data/series_sample.csv\", index_col=\"Animal\").squeeze()\n",
    "print(animal_series.max())\n",
    "print(animal_series.min())"
   ]
  },
  {
   "cell_type": "code",
   "execution_count": 34,
   "metadata": {},
   "outputs": [
    {
     "data": {
      "text/plain": [
       "count     7.000000\n",
       "mean     35.000000\n",
       "std      10.801234\n",
       "min      20.000000\n",
       "25%      27.500000\n",
       "50%      35.000000\n",
       "75%      42.500000\n",
       "max      50.000000\n",
       "Name: Age, dtype: float64"
      ]
     },
     "execution_count": 34,
     "metadata": {},
     "output_type": "execute_result"
    }
   ],
   "source": [
    "# 시리즈의 대한 모든 통계 정보 확인\n",
    "animal_series.describe()"
   ]
  },
  {
   "cell_type": "markdown",
   "metadata": {},
   "source": [
    "### 시리즈에서 주어진 요소 확인하기"
   ]
  },
  {
   "cell_type": "code",
   "execution_count": 35,
   "metadata": {},
   "outputs": [
    {
     "data": {
      "text/plain": [
       "Animal\n",
       "다람쥐    30\n",
       "돼지     45\n",
       "고릴라    20\n",
       "원숭이    25\n",
       "호랑이    35\n",
       "곰      50\n",
       "늑대     40\n",
       "Name: Age, dtype: int64"
      ]
     },
     "execution_count": 35,
     "metadata": {},
     "output_type": "execute_result"
    }
   ],
   "source": [
    "animal_series"
   ]
  },
  {
   "cell_type": "code",
   "execution_count": 36,
   "metadata": {},
   "outputs": [
    {
     "data": {
      "text/plain": [
       "True"
      ]
     },
     "execution_count": 36,
     "metadata": {},
     "output_type": "execute_result"
    }
   ],
   "source": [
    "# 시리즈 값에 주어진 숫자가 있는지 확인\n",
    "\n",
    "20 in animal_series.values"
   ]
  },
  {
   "cell_type": "code",
   "execution_count": 37,
   "metadata": {},
   "outputs": [
    {
     "data": {
      "text/plain": [
       "True"
      ]
     },
     "execution_count": 37,
     "metadata": {},
     "output_type": "execute_result"
    }
   ],
   "source": [
    "# 주어진 값이 인덱스에 존재하는지 확인\n",
    "\"고릴라\" in animal_series.index"
   ]
  },
  {
   "cell_type": "code",
   "execution_count": 38,
   "metadata": {},
   "outputs": [
    {
     "data": {
      "text/plain": [
       "True"
      ]
     },
     "execution_count": 38,
     "metadata": {},
     "output_type": "execute_result"
    }
   ],
   "source": [
    "\"고릴라\" in animal_series # defalt는 index를 가지고 확인"
   ]
  },
  {
   "cell_type": "markdown",
   "metadata": {},
   "source": [
    "### 시리즈 슬라이싱"
   ]
  },
  {
   "cell_type": "code",
   "execution_count": 39,
   "metadata": {},
   "outputs": [
    {
     "data": {
      "text/plain": [
       "Age\n",
       "30    다람쥐\n",
       "45     돼지\n",
       "20    고릴라\n",
       "25    원숭이\n",
       "35    호랑이\n",
       "50      곰\n",
       "40     늑대\n",
       "Name: Animal, dtype: object"
      ]
     },
     "execution_count": 39,
     "metadata": {},
     "output_type": "execute_result"
    }
   ],
   "source": [
    "animal_series = pd.read_csv(\"../00_data/series_sample.csv\", index_col=\"Age\").squeeze()\n",
    "animal_series"
   ]
  },
  {
   "cell_type": "code",
   "execution_count": 40,
   "metadata": {},
   "outputs": [
    {
     "data": {
      "text/plain": [
       "Age\n",
       "30    다람쥐\n",
       "Name: Animal, dtype: object"
      ]
     },
     "execution_count": 40,
     "metadata": {},
     "output_type": "execute_result"
    }
   ],
   "source": [
    "# 첫번째 요소\n",
    "animal_series[0:1]"
   ]
  },
  {
   "cell_type": "code",
   "execution_count": 41,
   "metadata": {},
   "outputs": [
    {
     "data": {
      "text/plain": [
       "Age\n",
       "40    늑대\n",
       "Name: Animal, dtype: object"
      ]
     },
     "execution_count": 41,
     "metadata": {},
     "output_type": "execute_result"
    }
   ],
   "source": [
    "# 마지막 요소\n",
    "animal_series[animal_series.count() - 1:]"
   ]
  },
  {
   "cell_type": "code",
   "execution_count": 42,
   "metadata": {},
   "outputs": [
    {
     "name": "stdout",
     "output_type": "stream",
     "text": [
      "Age\n",
      "45     돼지\n",
      "20    고릴라\n",
      "25    원숭이\n",
      "35    호랑이\n",
      "50      곰\n",
      "40     늑대\n",
      "Name: Animal, dtype: object\n",
      "Age\n",
      "30    다람쥐\n",
      "45     돼지\n",
      "20    고릴라\n",
      "Name: Animal, dtype: object\n"
     ]
    }
   ],
   "source": [
    "print(animal_series[1:])\n",
    "print(animal_series[:3])"
   ]
  }
 ],
 "metadata": {
  "kernelspec": {
   "display_name": "Python 3",
   "language": "python",
   "name": "python3"
  },
  "language_info": {
   "codemirror_mode": {
    "name": "ipython",
    "version": 3
   },
   "file_extension": ".py",
   "mimetype": "text/x-python",
   "name": "python",
   "nbconvert_exporter": "python",
   "pygments_lexer": "ipython3",
   "version": "3.12.4"
  }
 },
 "nbformat": 4,
 "nbformat_minor": 2
}

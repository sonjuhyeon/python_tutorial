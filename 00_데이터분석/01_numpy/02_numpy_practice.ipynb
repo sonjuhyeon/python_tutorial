{
 "cells": [
  {
   "cell_type": "markdown",
   "metadata": {},
   "source": [
    "# 실습문제"
   ]
  },
  {
   "cell_type": "code",
   "execution_count": 1,
   "metadata": {},
   "outputs": [
    {
     "name": "stdout",
     "output_type": "stream",
     "text": [
      "[['2012-01-12' '60.19857' '75.510002' ... '28.25' '313.644379' '1295.5']\n",
      " ['2012-01-13' '59.972857999999995' '74.599998' ... '22.790001'\n",
      "  '311.32806400000004' '1289.089966']\n",
      " ['2012-01-17' '60.671429' '75.239998' ... '26.6' '313.11636400000003'\n",
      "  '1293.670044']\n",
      " ...\n",
      " ['2020-08-07' '444.450012' '170.020004' ... '1452.709961' '1494.48999'\n",
      "  '3351.280029']\n",
      " ['2020-08-10' '450.910004' '179.41000400000001' ... '1418.569946'\n",
      "  '1496.099976' '3360.469971']\n",
      " ['2020-08-11' '437.5' '180.130005' ... '1374.390015' '1480.319946'\n",
      "  '3333.689941']]\n"
     ]
    }
   ],
   "source": [
    "import numpy as np\n",
    "stock_info = np.genfromtxt(\"../00_data/stock_daily_prices.csv\", delimiter=\",\", dtype=None, encoding=None, skip_header=1)\n",
    "stock_info = np.vstack([stock_info[\"f0\"],stock_info[\"f1\"],stock_info[\"f2\"],\n",
    "                        stock_info[\"f3\"],stock_info[\"f4\"],stock_info[\"f5\"],\n",
    "                        stock_info[\"f6\"],stock_info[\"f7\"],stock_info[\"f8\"],\n",
    "                        stock_info[\"f9\"]]).T\n",
    "\n",
    "print(stock_info)"
   ]
  },
  {
   "cell_type": "markdown",
   "metadata": {},
   "source": [
    "# 문제1: 각 종목의 최고가와 최저가 찾기"
   ]
  },
  {
   "cell_type": "code",
   "execution_count": 2,
   "metadata": {},
   "outputs": [
    {
     "name": "stdout",
     "output_type": "stream",
     "text": [
      "AAPL 의 최고가:  455.610, 최저가:   55.790\n",
      "BA   의 최고가:  440.620, 최저가:   67.240\n",
      "T    의 최고가:   43.470, 최저가:   26.770\n",
      "MGM  의 최고가:   38.030, 최저가:    7.140\n",
      "AMZN 의 최고가: 3225.000, 최저가:  175.930\n",
      "IBM  의 최고가:  215.800, 최저가:   94.770\n",
      "TSLA 의 최고가: 1643.000, 최저가:   22.790\n",
      "GOOG 의 최고가: 1568.490, 최저가:  278.481\n",
      "SP500의 최고가: 3386.150, 최저가: 1278.040\n"
     ]
    }
   ],
   "source": [
    "stock_prices = stock_info[:, 1:].astype(float)\n",
    "# print(stock_prices.T)\n",
    "\n",
    "# 주가 필드를 추가하기\n",
    "columns = [\"AAPL\", \"BA\", \"T\", \"MGM\", \"AMZN\", \"IBM\", \"TSLA\", \"GOOG\", \"SP500\"]\n",
    "\n",
    "for stock in range(len(columns)):\n",
    "  print(f\"{columns[stock]:5}의 최고가: {max(stock_prices.T[stock]):8.3f}, 최저가: {min(stock_prices.T[stock]):8.3f}\")"
   ]
  },
  {
   "cell_type": "code",
   "execution_count": 3,
   "metadata": {},
   "outputs": [
    {
     "name": "stdout",
     "output_type": "stream",
     "text": [
      "AAPL 의 최고 주가 :  455.61, 최저 주가 :   55.79\n",
      "BA   의 최고 주가 :  440.62, 최저 주가 :   67.24\n",
      "T    의 최고 주가 :   43.47, 최저 주가 :   26.77\n",
      "MGM  의 최고 주가 :   38.03, 최저 주가 :    7.14\n",
      "AMZN 의 최고 주가 :  3225.0, 최저 주가 :  175.93\n",
      "IBM  의 최고 주가 :   215.8, 최저 주가 :   94.77\n",
      "TSLA 의 최고 주가 :  1643.0, 최저 주가 :   22.79\n",
      "GOOG 의 최고 주가 : 1568.49, 최저 주가 :  278.48\n",
      "SP500의 최고 주가 : 3386.15, 최저 주가 : 1278.04\n"
     ]
    }
   ],
   "source": [
    "max_prices = np.max(stock_info[:, 1:].astype(float), axis=0)\n",
    "min_prices = np.min(stock_info[:, 1:].astype(float), axis=0)\n",
    "\n",
    "for stock, max_price, min_price in zip(columns, max_prices, min_prices) :\n",
    "    print(f\"{stock:5}의 최고 주가 : {max_price.round(2):7}, 최저 주가 : {min_price.round(2):7}\")"
   ]
  },
  {
   "cell_type": "markdown",
   "metadata": {},
   "source": [
    "# 문제2: S&P500과 테슬라 간의 상관관계 분석"
   ]
  },
  {
   "cell_type": "code",
   "execution_count": 4,
   "metadata": {},
   "outputs": [
    {
     "name": "stdout",
     "output_type": "stream",
     "text": [
      "s&p500과 테슬라 간의 상관관계: 0.7043076473484613\n"
     ]
    }
   ],
   "source": [
    "tsla = stock_prices.T[columns.index(\"TSLA\")]\n",
    "sp500 = stock_prices.T[columns.index(\"SP500\")]\n",
    "# print(tsla, sp500)\n",
    "\n",
    "\n",
    "correlation_matrix = np.corrcoef(tsla, sp500)\n",
    "print(f\"s&p500과 테슬라 간의 상관관계: {correlation_matrix[0,1]}\")"
   ]
  },
  {
   "cell_type": "markdown",
   "metadata": {},
   "source": [
    "# 문제3: 특정기간(2012-01-12 ~ 2012-01-25) 동안 가장 많이 상승한 종목 찾기"
   ]
  },
  {
   "cell_type": "code",
   "execution_count": 5,
   "metadata": {},
   "outputs": [
    {
     "name": "stdout",
     "output_type": "stream",
     "text": [
      "2012-01-12부터 2012-01-25까지 가장 많이 오른 종목: MGM, 상승률: 8.079%\n"
     ]
    }
   ],
   "source": [
    "prices_at_0112 = stock_info[stock_info[:, 0] == \"2012-01-12\"][0][1:].astype(float)\n",
    "prices_at_0125 = stock_info[stock_info[:, 0] == \"2012-01-25\"][0][1:].astype(float)\n",
    "# print(prices_at_0112)\n",
    "# print(prices_at_0125)\n",
    "\n",
    "rised_percent = (prices_at_0125 - prices_at_0112) / prices_at_0112 * 100\n",
    "idx = np.where(rised_percent == max(rised_percent))[0][0]\n",
    "# print(idx)\n",
    "print(f\"2012-01-12부터 2012-01-25까지 가장 많이 오른 종목: {columns[idx]}, 상승률: {rised_percent[idx]:.3f}%\")"
   ]
  },
  {
   "cell_type": "code",
   "execution_count": 6,
   "metadata": {},
   "outputs": [
    {
     "name": "stdout",
     "output_type": "stream",
     "text": [
      "2012-01-12부터 2012-01-25사이 가장 많이 오른 종목: TSLA, 상승률: 16.718%, 날짜: 2012-01-17\n"
     ]
    }
   ],
   "source": [
    "from_idx = np.where(stock_info == \"2012-01-12\")[0][0]\n",
    "to_idx = np.where(stock_info == \"2012-01-25\")[0][0]\n",
    "# print(from_idx, to_idx)\n",
    "\n",
    "prices_from_0112_to_0125 = stock_info[from_idx:to_idx+1][:, 1:].astype(float)\n",
    "# print(prices_from_0112_to_0125)\n",
    "\n",
    "most_raised_stock = ''\n",
    "most_raised_percent = 0\n",
    "idx_of_date = -1\n",
    "for i in range(len(prices_from_0112_to_0125) - 1):\n",
    "  raised_percent = (prices_from_0112_to_0125[i + 1] - prices_from_0112_to_0125[i]) / prices_from_0112_to_0125[i] * 100\n",
    "  idx_of_stock = np.where(raised_percent == max(raised_percent))[0][0]\n",
    "  if most_raised_percent < max(raised_percent):\n",
    "    most_raised_percent = max(raised_percent)\n",
    "    most_raised_stock = columns[idx_of_stock]\n",
    "    idx_of_date = i + 1\n",
    "\n",
    "print(f\"2012-01-12부터 2012-01-25사이 가장 많이 오른 종목: {most_raised_stock}, 상승률: {most_raised_percent:5.3f}%, 날짜: {stock_info[idx_of_date][0]}\")"
   ]
  }
 ],
 "metadata": {
  "kernelspec": {
   "display_name": "Python 3",
   "language": "python",
   "name": "python3"
  },
  "language_info": {
   "codemirror_mode": {
    "name": "ipython",
    "version": 3
   },
   "file_extension": ".py",
   "mimetype": "text/x-python",
   "name": "python",
   "nbconvert_exporter": "python",
   "pygments_lexer": "ipython3",
   "version": "3.12.4"
  }
 },
 "nbformat": 4,
 "nbformat_minor": 2
}
